{
 "cells": [
  {
   "cell_type": "markdown",
   "id": "1309c75b",
   "metadata": {},
   "source": [
    "### **VARIABLES IN PYTHON**"
   ]
  },
  {
   "cell_type": "code",
   "execution_count": 8,
   "id": "f58af3d8",
   "metadata": {},
   "outputs": [
    {
     "name": "stdout",
     "output_type": "stream",
     "text": [
      "counter = 100 miles= 1000.0 name = Mishra JI \n"
     ]
    }
   ],
   "source": [
    "counter =100\n",
    "miles =1000.0\n",
    "name = \"Mishra JI \"\n",
    "print(\"counter =\", counter,\"miles=\", miles,\"name =\", name)"
   ]
  },
  {
   "cell_type": "code",
   "execution_count": 9,
   "id": "2af2b242",
   "metadata": {},
   "outputs": [],
   "source": [
    "# militpal assigment \n",
    "a =10\n",
    "b =10\n",
    "c =10\n"
   ]
  },
  {
   "cell_type": "code",
   "execution_count": 11,
   "id": "76f80640",
   "metadata": {},
   "outputs": [
    {
     "name": "stdout",
     "output_type": "stream",
     "text": [
      "10 10 10\n"
     ]
    }
   ],
   "source": [
    "a=b=c=10\n",
    "print(a,b,c)"
   ]
  },
  {
   "cell_type": "code",
   "execution_count": 12,
   "id": "ae66183f",
   "metadata": {},
   "outputs": [
    {
     "name": "stdout",
     "output_type": "stream",
     "text": [
      "10 20 30\n"
     ]
    }
   ],
   "source": [
    "a,b,c= 10,20,30\n",
    "print(a,b,c)"
   ]
  },
  {
   "cell_type": "code",
   "execution_count": 13,
   "id": "d1d88a45",
   "metadata": {},
   "outputs": [
    {
     "name": "stdout",
     "output_type": "stream",
     "text": [
      "10 20 jai ram\n"
     ]
    }
   ],
   "source": [
    "a,b,c= 10,20,\"jai ram\"\n",
    "print(a,b,c)"
   ]
  },
  {
   "cell_type": "markdown",
   "id": "86823324",
   "metadata": {},
   "source": [
    "### **DATA TYPE**"
   ]
  },
  {
   "cell_type": "code",
   "execution_count": 22,
   "id": "a39cd296",
   "metadata": {},
   "outputs": [
    {
     "data": {
      "text/plain": [
       "float"
      ]
     },
     "execution_count": 22,
     "metadata": {},
     "output_type": "execute_result"
    }
   ],
   "source": [
    "# int - bool - float - complex\n",
    "\n",
    "var1 = 2\n",
    "var2 = True\n",
    "var3 = 17.52\n",
    "var4 = 4+3j\n",
    "type(var3)\n"
   ]
  },
  {
   "cell_type": "code",
   "execution_count": 23,
   "id": "7f29bb83",
   "metadata": {},
   "outputs": [
    {
     "data": {
      "text/plain": [
       "str"
      ]
     },
     "execution_count": 23,
     "metadata": {},
     "output_type": "execute_result"
    }
   ],
   "source": [
    "type('HI HOW ARE YOU WHERE ARE YOU FROM')"
   ]
  },
  {
   "cell_type": "code",
   "execution_count": 28,
   "id": "b5a653c3",
   "metadata": {},
   "outputs": [
    {
     "name": "stdout",
     "output_type": "stream",
     "text": [
      "Hello world\n",
      "H\n",
      "d\n",
      "Hello\n",
      "Hello world\n",
      "Hello worldHello world\n",
      "Hello worldMishra\n"
     ]
    }
   ],
   "source": [
    "# string data type\n",
    "str = 'Hello world'\n",
    "print(str)\n",
    "print(str[0])\n",
    "print(str[-1])\n",
    "print(str[0:5])\n",
    "print(str[0:])\n",
    "print(str * 2)\n",
    "print(str + \"Mishra\")"
   ]
  },
  {
   "cell_type": "code",
   "execution_count": 30,
   "id": "c4806bdf",
   "metadata": {},
   "outputs": [
    {
     "name": "stdout",
     "output_type": "stream",
     "text": [
      "['abcd', 12345, 2.44, 'mishra', 32.6]\n",
      "abcd\n",
      "32.6\n",
      "['abcd', 12345, 2.44, 'mishra', 32.6]\n",
      "['abcd', 12345, 2.44, 'mishra', 32.6]\n",
      "['abcd', 12345, 2.44, 'mishra', 32.6, 'abcd', 12345, 2.44, 'mishra', 32.6]\n",
      "['abcd', 12345, 2.44, 'mishra', 32.6, 1234, 'john']\n"
     ]
    }
   ],
   "source": [
    "# list datatype\n",
    "\n",
    "list = ['abcd', 12345, 2.44, 'mishra', 32.6]\n",
    "tinylist =[1234, 'john']\n",
    "print(list)\n",
    "print(list[0])\n",
    "print(list[-1])\n",
    "print(list[0:5])\n",
    "print(list[0:])\n",
    "print(list * 2)\n",
    "print(list + tinylist)"
   ]
  },
  {
   "cell_type": "code",
   "execution_count": 31,
   "id": "c514844d",
   "metadata": {},
   "outputs": [
    {
     "name": "stdout",
     "output_type": "stream",
     "text": [
      "('abcd', 786, 2.23, 'john', 70.2)\n",
      "abcd\n",
      "(786, 2.23)\n",
      "(2.23, 'john', 70.2)\n",
      "(123, 'john', 123, 'john')\n",
      "('abcd', 786, 2.23, 'john', 70.2, 123, 'john')\n"
     ]
    }
   ],
   "source": [
    "tuple = ( 'abcd', 786 , 2.23, 'john', 70.2  )\n",
    "tinytuple = (123, 'john')\n",
    "\n",
    "print (tuple)               # Prints the complete tuple\n",
    "print (tuple[0])            # Prints first element of the tuple\n",
    "print (tuple[1:3])          # Prints elements of the tuple starting from 2nd till 3rd \n",
    "print (tuple[2:])           # Prints elements of the tuple starting from 3rd element\n",
    "print (tinytuple * 2)       # Prints the contents of the tuple twice\n",
    "print (tuple + tinytuple)   # Prints concatenated tuples"
   ]
  },
  {
   "cell_type": "code",
   "execution_count": 33,
   "id": "e350e945",
   "metadata": {},
   "outputs": [],
   "source": [
    "tuple = ( 'abcd', 786 , 2.23, 'john', 70.2  )\n",
    "list = [ 'abcd', 786 , 2.23, 'john', 70.2  ]\n",
    "# tuple[2] = 1000    # Invalid syntax with tuple\n",
    "# list[2] = 1000     # Valid syntax with list"
   ]
  },
  {
   "cell_type": "code",
   "execution_count": 36,
   "id": "fc08c2a7",
   "metadata": {},
   "outputs": [
    {
     "name": "stdout",
     "output_type": "stream",
     "text": [
      "0\n",
      "1\n",
      "2\n",
      "3\n",
      "4\n",
      "2\n",
      "3\n",
      "4\n"
     ]
    }
   ],
   "source": [
    "for i in range(5):\n",
    "    print(i)\n",
    "for i in range(2,5):\n",
    "    print(i)    "
   ]
  },
  {
   "cell_type": "code",
   "execution_count": 37,
   "id": "7f164621",
   "metadata": {},
   "outputs": [
    {
     "name": "stdout",
     "output_type": "stream",
     "text": [
      "1\n",
      "3\n"
     ]
    }
   ],
   "source": [
    "for i in range(1, 5, 2):\n",
    "    print(i)"
   ]
  },
  {
   "cell_type": "code",
   "execution_count": 38,
   "id": "4e147ae5",
   "metadata": {},
   "outputs": [
    {
     "name": "stdout",
     "output_type": "stream",
     "text": [
      "bytearray(b'Hello')\n"
     ]
    }
   ],
   "source": [
    "# Creating a bytearray from an iterable of integers\n",
    "value = bytearray([72, 101, 108, 108, 111])  \n",
    "print(value)  "
   ]
  },
  {
   "cell_type": "code",
   "execution_count": 39,
   "id": "e08875e2",
   "metadata": {},
   "outputs": [
    {
     "name": "stdout",
     "output_type": "stream",
     "text": [
      "<memory at 0x00000178C11B3DC0>\n"
     ]
    }
   ],
   "source": [
    "data = bytearray(b'Hello, world!')\n",
    "view = memoryview(data)\n",
    "print(view)"
   ]
  },
  {
   "cell_type": "code",
   "execution_count": 40,
   "id": "67bde634",
   "metadata": {},
   "outputs": [
    {
     "name": "stdout",
     "output_type": "stream",
     "text": [
      "This is one\n",
      "This is two\n",
      "{'name': 'john', 'code': 6734, 'dept': 'sales'}\n",
      "dict_keys(['name', 'code', 'dept'])\n",
      "dict_values(['john', 6734, 'sales'])\n"
     ]
    }
   ],
   "source": [
    "# Dictionary Data Type\n",
    "dict = {}\n",
    "dict['one'] = \"This is one\"\n",
    "dict[2]     = \"This is two\"\n",
    "\n",
    "tinydict = {'name': 'john','code':6734, 'dept': 'sales'}\n",
    "\n",
    "\n",
    "print (dict['one'])       # Prints value for 'one' key\n",
    "print (dict[2])           # Prints value for 2 key\n",
    "print (tinydict)          # Prints complete dictionary\n",
    "print (tinydict.keys())   # Prints all the keys\n",
    "print (tinydict.values()) # Prints all the values"
   ]
  },
  {
   "cell_type": "code",
   "execution_count": 41,
   "id": "539cf086",
   "metadata": {},
   "outputs": [
    {
     "name": "stdout",
     "output_type": "stream",
     "text": [
      "False\n",
      "False\n",
      "False\n",
      "False\n",
      "True\n"
     ]
    }
   ],
   "source": [
    "# Following also prints the same\n",
    "print(a==b)\n",
    "\n",
    "# Returns False as a is None\n",
    "a = None\n",
    "print(bool(a))\n",
    "\n",
    "# Returns false as a is an empty sequence\n",
    "a = ()\n",
    "print(bool(a))\n",
    "\n",
    "# Returns false as a is 0\n",
    "a = 0.0\n",
    "print(bool(a))\n",
    "\n",
    "# Returns false as a is 10\n",
    "a = 10\n",
    "print(bool(a))"
   ]
  },
  {
   "cell_type": "code",
   "execution_count": 44,
   "id": "15806109",
   "metadata": {},
   "outputs": [
    {
     "name": "stdout",
     "output_type": "stream",
     "text": [
      "Conversion to integer data type\n",
      "1\n",
      "2\n",
      "jai ram\n",
      "Conversion to floating point number\n",
      "1.0\n",
      "2.2\n",
      "3.3\n",
      "Conversion to string\n"
     ]
    },
    {
     "ename": "TypeError",
     "evalue": "'str' object is not callable",
     "output_type": "error",
     "traceback": [
      "\u001b[1;31m---------------------------------------------------------------------------\u001b[0m",
      "\u001b[1;31mTypeError\u001b[0m                                 Traceback (most recent call last)",
      "Cell \u001b[1;32mIn[44], line 21\u001b[0m\n\u001b[0;32m     18\u001b[0m \u001b[38;5;28mprint\u001b[39m (c)\n\u001b[0;32m     20\u001b[0m \u001b[38;5;28mprint\u001b[39m(\u001b[38;5;124m\"\u001b[39m\u001b[38;5;124mConversion to string\u001b[39m\u001b[38;5;124m\"\u001b[39m)\n\u001b[1;32m---> 21\u001b[0m a \u001b[38;5;241m=\u001b[39m \u001b[38;5;28;43mstr\u001b[39;49m\u001b[43m(\u001b[49m\u001b[38;5;241;43m1\u001b[39;49m\u001b[43m)\u001b[49m     \u001b[38;5;66;03m# a will be \"1\" \u001b[39;00m\n\u001b[0;32m     22\u001b[0m b \u001b[38;5;241m=\u001b[39m \u001b[38;5;28mstr\u001b[39m(\u001b[38;5;241m2.2\u001b[39m)   \u001b[38;5;66;03m# b will be \"2.2\"\u001b[39;00m\n\u001b[0;32m     23\u001b[0m c \u001b[38;5;241m=\u001b[39m \u001b[38;5;28mstr\u001b[39m(\u001b[38;5;124m\"\u001b[39m\u001b[38;5;124m3.3\u001b[39m\u001b[38;5;124m\"\u001b[39m) \u001b[38;5;66;03m# c will be \"3.3\"\u001b[39;00m\n",
      "\u001b[1;31mTypeError\u001b[0m: 'str' object is not callable"
     ]
    }
   ],
   "source": [
    "# Data Type Conversion\n",
    "print(\"Conversion to integer data type\")\n",
    "a = int(1)     # a will be 1\n",
    "b = int(2.2)   # b will be 2\n",
    "# c = int('3.3')   # c will be 3\n",
    "\n",
    "print (a)\n",
    "print (b)\n",
    "print (c)\n",
    "\n",
    "print(\"Conversion to floating point number\")\n",
    "a = float(1)     # a will be 1.0\n",
    "b = float(2.2)   # b will be 2.2\n",
    "c = float(\"3.3\") # c will be 3.3\n",
    "\n",
    "print (a)\n",
    "print (b)\n",
    "print (c)\n",
    "\n",
    "print(\"Conversion to string\")\n",
    "a = str(1)     # a will be \"1\" \n",
    "b = str(2.2)   # b will be \"2.2\"\n",
    "c = str(\"3.3\") # c will be \"3.3\"\n",
    "\n",
    "print (a)\n",
    "print (b)\n",
    "print (c)"
   ]
  },
  {
   "cell_type": "markdown",
   "id": "37dc9eb5",
   "metadata": {},
   "source": [
    "### **Type Casting**"
   ]
  },
  {
   "cell_type": "code",
   "execution_count": 46,
   "id": "079e8486",
   "metadata": {},
   "outputs": [
    {
     "name": "stdout",
     "output_type": "stream",
     "text": [
      "20.2\n"
     ]
    }
   ],
   "source": [
    "a =10\n",
    "b =10.2\n",
    "c = a+b\n",
    "print(c)"
   ]
  },
  {
   "cell_type": "code",
   "execution_count": null,
   "id": "ac18508a",
   "metadata": {},
   "outputs": [
    {
     "name": "stdout",
     "output_type": "stream",
     "text": [
      "11.5\n"
     ]
    }
   ],
   "source": [
    "a = True   # true means values are assign a true it store value = 1\n",
    "b = 10.5\n",
    "c = a+ b\n",
    "print(c)"
   ]
  },
  {
   "cell_type": "code",
   "execution_count": 50,
   "id": "ca9f344c",
   "metadata": {},
   "outputs": [
    {
     "data": {
      "text/plain": [
       "int"
      ]
     },
     "execution_count": 50,
     "metadata": {},
     "output_type": "execute_result"
    }
   ],
   "source": [
    "a = int(10.5)\n",
    "a\n",
    "a = int(2*3.14)\n",
    "a\n",
    "type(a)"
   ]
  },
  {
   "cell_type": "code",
   "execution_count": 52,
   "metadata": {},
   "outputs": [
    {
     "data": {
      "text/plain": [
       "int"
      ]
     },
     "execution_count": 52,
     "metadata": {},
     "output_type": "execute_result"
    }
   ],
   "source": [
    "a = int(True)\n",
    "type(a)"
   ]
  },
  {
   "cell_type": "code",
   "execution_count": 55,
   "id": "151c3f58",
   "metadata": {},
   "outputs": [
    {
     "data": {
      "text/plain": [
       "str"
      ]
     },
     "execution_count": 55,
     "metadata": {},
     "output_type": "execute_result"
    }
   ],
   "source": [
    "# stirng to integer \n",
    "\n",
    "a = int(\"100\")\n",
    "a\n",
    "b =('10'+'01')\n",
    "b\n",
    "type(a)\n",
    "type(b)"
   ]
  },
  {
   "cell_type": "code",
   "execution_count": 57,
   "id": "3e0337a1",
   "metadata": {},
   "outputs": [
    {
     "name": "stdout",
     "output_type": "stream",
     "text": [
      "51\n"
     ]
    }
   ],
   "source": [
    "# binary string integer \n",
    "a = int(\"110011\", 2)\n",
    "print(a)"
   ]
  },
  {
   "cell_type": "code",
   "execution_count": 58,
   "id": "4abf571a",
   "metadata": {},
   "outputs": [
    {
     "data": {
      "text/plain": [
       "16"
      ]
     },
     "execution_count": 58,
     "metadata": {},
     "output_type": "execute_result"
    }
   ],
   "source": [
    "# octol to integer \n",
    "a = int(\"20\", 8)\n",
    "a"
   ]
  },
  {
   "cell_type": "code",
   "execution_count": 59,
   "id": "41b99ee7",
   "metadata": {},
   "outputs": [
    {
     "data": {
      "text/plain": [
       "681"
      ]
     },
     "execution_count": 59,
     "metadata": {},
     "output_type": "execute_result"
    }
   ],
   "source": [
    "# hexa decimal \n",
    "a = int('2A9', 16)\n",
    "a"
   ]
  },
  {
   "cell_type": "markdown",
   "id": "75a54b7d",
   "metadata": {},
   "source": [
    "### **Literals**"
   ]
  },
  {
   "cell_type": "markdown",
   "id": "e5a1e090",
   "metadata": {},
   "source": [
    "### **Arithmetic Operators**"
   ]
  },
  {
   "cell_type": "code",
   "execution_count": 68,
   "id": "442af624",
   "metadata": {},
   "outputs": [
    {
     "name": "stdout",
     "output_type": "stream",
     "text": [
      "30.5\n",
      "-9.5\n",
      "210.0\n",
      "0.525\n",
      "10.5\n",
      "False\n",
      "True\n",
      "True\n"
     ]
    }
   ],
   "source": [
    "a = 10.5\n",
    "b = 20\n",
    "print(a+b)\n",
    "print(a-b)\n",
    "print(a*b)\n",
    "print(a/b)\n",
    "print(a%b)\n",
    "print(a==b)\n",
    "print(a!=b)\n",
    "print(a<=b)\n"
   ]
  },
  {
   "cell_type": "code",
   "execution_count": 71,
   "id": "5b1129d7",
   "metadata": {},
   "outputs": [
    {
     "name": "stdout",
     "output_type": "stream",
     "text": [
      "(10+24j)\n"
     ]
    }
   ],
   "source": [
    "a=6+4j\n",
    "b=3+2j\n",
    "c=a*b\n",
    "print(c)"
   ]
  },
  {
   "cell_type": "markdown",
   "id": "38552b83",
   "metadata": {},
   "source": [
    "### **ASSIGMENT OPRE**"
   ]
  },
  {
   "cell_type": "code",
   "execution_count": 72,
   "id": "29484ded",
   "metadata": {},
   "outputs": [
    {
     "name": "stdout",
     "output_type": "stream",
     "text": [
      "Augmented addition of int and int\n",
      "a= 15 type(a): <class 'int'>\n",
      "Augmented addition of int and float\n",
      "a= 15.5 type(a): <class 'float'>\n",
      "Augmented addition of float and complex\n",
      "a= (15.5+6j) type(a): <class 'complex'>\n"
     ]
    }
   ],
   "source": [
    "a=10\n",
    "b=5\n",
    "print (\"Augmented addition of int and int\")\n",
    "a+=b # equivalent to a=a+b\n",
    "print (\"a=\",a, \"type(a):\", type(a))\n",
    "\n",
    "a=10\n",
    "b=5.5\n",
    "print (\"Augmented addition of int and float\")\n",
    "a+=b  # equivalent to a=a+b\n",
    "print (\"a=\",a, \"type(a):\", type(a))\n",
    "\n",
    "a=10.50\n",
    "b=5+6j\n",
    "print (\"Augmented addition of float and complex\")\n",
    "a+=b #equivalent to a=a+b\n",
    "print (\"a=\",a, \"type(a):\", type(a))"
   ]
  },
  {
   "cell_type": "code",
   "execution_count": 73,
   "id": "c1baa9d7",
   "metadata": {},
   "outputs": [
    {
     "name": "stdout",
     "output_type": "stream",
     "text": [
      "Augmented multiplication of int and int\n",
      "a= 50 type(a): <class 'int'>\n",
      "Augmented multiplication of int and float\n",
      "a= 55.0 type(a): <class 'float'>\n",
      "Augmented multiplication of complex and complex\n",
      "a= (10+24j) type(a): <class 'complex'>\n"
     ]
    }
   ],
   "source": [
    "a=10\n",
    "b=5\n",
    "print (\"Augmented multiplication of int and int\")\n",
    "a*=b #equivalent to a=a*b\n",
    "print (\"a=\",a, \"type(a):\", type(a))\n",
    "\n",
    "a=10\n",
    "b=5.5\n",
    "print (\"Augmented multiplication of int and float\")\n",
    "a*=b #equivalent to a=a*b\n",
    "print (\"a=\",a, \"type(a):\", type(a))\n",
    "\n",
    "a=6+4j\n",
    "b=3+2j\n",
    "print (\"Augmented multiplication of complex and complex\")\n",
    "a*=b #equivalent to a=a*b\n",
    "print (\"a=\",a, \"type(a):\", type(a))"
   ]
  },
  {
   "cell_type": "code",
   "execution_count": 74,
   "id": "4ec8ded2",
   "metadata": {},
   "outputs": [
    {
     "name": "stdout",
     "output_type": "stream",
     "text": [
      "Augmented division of int and int\n",
      "a= 2.0 type(a): <class 'float'>\n",
      "Augmented division of int and float\n",
      "a= 1.8181818181818181 type(a): <class 'float'>\n",
      "Augmented division of complex and complex\n",
      "a= (2+0j) type(a): <class 'complex'>\n"
     ]
    }
   ],
   "source": [
    "a=10\n",
    "b=5\n",
    "print (\"Augmented division of int and int\")\n",
    "a/=b #equivalent to a=a/b\n",
    "print (\"a=\",a, \"type(a):\", type(a))\n",
    "\n",
    "a=10\n",
    "b=5.5\n",
    "print (\"Augmented division of int and float\")\n",
    "a/=b #equivalent to a=a/b\n",
    "print (\"a=\",a, \"type(a):\", type(a))\n",
    "\n",
    "a=6+4j\n",
    "b=3+2j\n",
    "print (\"Augmented division of complex and complex\")\n",
    "a/=b #equivalent to a=a/b\n",
    "print (\"a=\",a, \"type(a):\", type(a))"
   ]
  },
  {
   "cell_type": "code",
   "execution_count": 75,
   "id": "3160e821",
   "metadata": {},
   "outputs": [
    {
     "name": "stdout",
     "output_type": "stream",
     "text": [
      "Augmented exponent operator with int and int\n",
      "a= 100000 type(a): <class 'int'>\n",
      "Augmented exponent operator with int and float\n",
      "a= 316227.7660168379 type(a): <class 'float'>\n",
      "Augmented exponent operator with complex and complex\n",
      "a= (97.52306038414744-62.22529992036203j) type(a): <class 'complex'>\n"
     ]
    }
   ],
   "source": [
    "a=10\n",
    "b=5\n",
    "print (\"Augmented exponent operator with int and int\")\n",
    "a**=b #equivalent to a=a**b\n",
    "print (\"a=\",a, \"type(a):\", type(a))\n",
    "\n",
    "a=10\n",
    "b=5.5\n",
    "print (\"Augmented exponent operator with int and float\")\n",
    "a**=b #equivalent to a=a**b\n",
    "print (\"a=\",a, \"type(a):\", type(a))\n",
    "\n",
    "a=6+4j\n",
    "b=3+2j\n",
    "print (\"Augmented exponent operator with complex and complex\")\n",
    "a**=b #equivalent to a=a**b\n",
    "print (\"a=\",a, \"type(a):\", type(a))"
   ]
  },
  {
   "cell_type": "code",
   "execution_count": null,
   "id": "ae0e3af5",
   "metadata": {},
   "outputs": [],
   "source": []
  },
  {
   "cell_type": "code",
   "execution_count": null,
   "id": "74d1ec00",
   "metadata": {},
   "outputs": [],
   "source": []
  },
  {
   "cell_type": "code",
   "execution_count": null,
   "id": "5fd38a1a",
   "metadata": {},
   "outputs": [],
   "source": []
  },
  {
   "cell_type": "code",
   "execution_count": null,
   "id": "37178aa6",
   "metadata": {},
   "outputs": [],
   "source": []
  },
  {
   "cell_type": "code",
   "execution_count": null,
   "id": "b3fdf509",
   "metadata": {},
   "outputs": [],
   "source": []
  }
 ],
 "metadata": {
  "kernelspec": {
   "display_name": "Python (new_mldl)",
   "language": "python",
   "name": "new_mldl"
  },
  "language_info": {
   "codemirror_mode": {
    "name": "ipython",
    "version": 3
   },
   "file_extension": ".py",
   "mimetype": "text/x-python",
   "name": "python",
   "nbconvert_exporter": "python",
   "pygments_lexer": "ipython3",
   "version": "3.12.2"
  }
 },
 "nbformat": 4,
 "nbformat_minor": 5
}
