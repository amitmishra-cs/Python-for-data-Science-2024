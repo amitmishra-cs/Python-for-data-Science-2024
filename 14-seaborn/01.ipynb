{
 "cells": [
  {
   "cell_type": "markdown",
   "metadata": {},
   "source": [
    "### Why Seaborn?\n",
    "\n",
    "- provides a layer of abstraction hence simpler to use\n",
    "- better aesthetics\n",
    "- more graphs included"
   ]
  },
  {
   "cell_type": "markdown",
   "metadata": {},
   "source": [
    "### Seaborn Roadmap\n",
    "\n",
    "Types of Functions\n",
    "\n",
    "- Figure Level\n",
    "- Axis Level\n",
    "\n",
    "Main Classification\n",
    "\n",
    "- Relational Plot\n",
    "- Distribution Plot\n",
    "- Categorical Plot\n",
    "- Regression Plot\n",
    "- Matrix Plot\n",
    "- Multiplots\n",
    "\n",
    "https://seaborn.pydata.org/api.html"
   ]
  },
  {
   "cell_type": "markdown",
   "metadata": {},
   "source": [
    "### 1. Relational Plot\n",
    "\n",
    "- to see the statistical relation between 2 or more variables.\n",
    "- Bivariate Analysis\n",
    "\n",
    "Plots under this section\n",
    "\n",
    "- scatterplot\n",
    "- lineplot"
   ]
  },
  {
   "cell_type": "code",
   "execution_count": null,
   "metadata": {},
   "outputs": [],
   "source": [
    "# Scatter plot \n"
   ]
  },
  {
   "cell_type": "code",
   "execution_count": null,
   "metadata": {},
   "outputs": [],
   "source": [
    "# scatter plot -> axes level function"
   ]
  },
  {
   "cell_type": "code",
   "execution_count": null,
   "metadata": {},
   "outputs": [],
   "source": [
    "# relplot -> figure level -> square shape"
   ]
  },
  {
   "cell_type": "code",
   "execution_count": null,
   "metadata": {},
   "outputs": [],
   "source": []
  },
  {
   "cell_type": "code",
   "execution_count": null,
   "metadata": {},
   "outputs": [],
   "source": []
  },
  {
   "cell_type": "code",
   "execution_count": null,
   "metadata": {},
   "outputs": [],
   "source": []
  },
  {
   "cell_type": "code",
   "execution_count": null,
   "metadata": {},
   "outputs": [],
   "source": []
  },
  {
   "cell_type": "code",
   "execution_count": null,
   "metadata": {},
   "outputs": [],
   "source": []
  }
 ],
 "metadata": {
  "language_info": {
   "name": "python"
  }
 },
 "nbformat": 4,
 "nbformat_minor": 2
}
