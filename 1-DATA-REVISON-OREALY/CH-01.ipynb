{
 "cells": [
  {
   "cell_type": "markdown",
   "id": "fcc02af6",
   "metadata": {},
   "source": [
    "## DATA ANALYSISS OREALY BOOK REVISION"
   ]
  },
  {
   "cell_type": "code",
   "execution_count": 79,
   "id": "0524c030",
   "metadata": {},
   "outputs": [],
   "source": [
    "import numpy as np\n",
    "import pandas as pd"
   ]
  },
  {
   "cell_type": "code",
   "execution_count": 80,
   "id": "a54ceeec",
   "metadata": {},
   "outputs": [
    {
     "data": {
      "text/plain": [
       "[0.7337174599831555,\n",
       " 0.8197634098387893,\n",
       " -1.1379439747573759,\n",
       " 0.22246109028323877,\n",
       " 2.351447354167337,\n",
       " -0.3293282975163852,\n",
       " -0.3086154898641755]"
      ]
     },
     "execution_count": 80,
     "metadata": {},
     "output_type": "execute_result"
    }
   ],
   "source": [
    "data =[np.random.standard_normal() for i in range(7)]\n",
    "data"
   ]
  },
  {
   "cell_type": "code",
   "execution_count": 81,
   "id": "7a480d5e",
   "metadata": {},
   "outputs": [
    {
     "name": "stdout",
     "output_type": "stream",
     "text": [
      "[0.7337174599831555, 0.8197634098387893, -1.1379439747573759, 0.22246109028323877, 2.351447354167337, -0.3293282975163852, -0.3086154898641755]\n"
     ]
    }
   ],
   "source": [
    "print(data)"
   ]
  },
  {
   "cell_type": "code",
   "execution_count": 82,
   "id": "c89d9664",
   "metadata": {},
   "outputs": [
    {
     "data": {
      "text/plain": [
       "2"
      ]
     },
     "execution_count": 82,
     "metadata": {},
     "output_type": "execute_result"
    }
   ],
   "source": [
    "b = [1, 2, 3]\n",
    "c = [1, 2, 3]\n",
    "b.append(5)\n",
    "b.insert(2,7)\n",
    "b.reverse()\n",
    "b.sort()\n",
    "b.index(3)\n",
    "# print(b)\n",
    "\n",
    "\n",
    "\n",
    "# append()  count()   insert()  reverse()\n",
    "# clear()   extend()  pop()     sort()\n",
    "# copy()    index()   remove()"
   ]
  },
  {
   "cell_type": "code",
   "execution_count": 83,
   "id": "75ba7114",
   "metadata": {},
   "outputs": [
    {
     "data": {
      "text/plain": [
       "datetime.datetime(2025, 7, 28, 1, 10, 36, 603904)"
      ]
     },
     "execution_count": 83,
     "metadata": {},
     "output_type": "execute_result"
    }
   ],
   "source": [
    "import datetime\n",
    "datetime.datetime.now()"
   ]
  },
  {
   "cell_type": "code",
   "execution_count": 84,
   "id": "741e848d",
   "metadata": {},
   "outputs": [
    {
     "data": {
      "text/plain": [
       "3"
      ]
     },
     "execution_count": 84,
     "metadata": {},
     "output_type": "execute_result"
    }
   ],
   "source": [
    "b = [1, 2, 3] \n",
    "type(b)\n",
    "b.__len__()"
   ]
  },
  {
   "cell_type": "code",
   "execution_count": 85,
   "id": "1d7744ca",
   "metadata": {},
   "outputs": [
    {
     "data": {
      "text/plain": [
       "137"
      ]
     },
     "execution_count": 85,
     "metadata": {},
     "output_type": "execute_result"
    }
   ],
   "source": [
    "a=2; b=32; c=33; d=70; \n",
    "a+b+c+d"
   ]
  },
  {
   "cell_type": "code",
   "execution_count": 86,
   "id": "0ed18169",
   "metadata": {},
   "outputs": [],
   "source": [
    "def append_elements(some_list, element):\n",
    "    some_list.append(element)"
   ]
  },
  {
   "cell_type": "code",
   "execution_count": 87,
   "id": "9a54f6be",
   "metadata": {},
   "outputs": [
    {
     "data": {
      "text/plain": [
       "[1, 2, 3, 4, 5]"
      ]
     },
     "execution_count": 87,
     "metadata": {},
     "output_type": "execute_result"
    }
   ],
   "source": [
    "data =[1,2,3,4]\n",
    "append_elements(data, 5)\n",
    "data"
   ]
  },
  {
   "cell_type": "code",
   "execution_count": 88,
   "id": "a041bb2f",
   "metadata": {},
   "outputs": [
    {
     "data": {
      "text/plain": [
       "2.25"
      ]
     },
     "execution_count": 88,
     "metadata": {},
     "output_type": "execute_result"
    }
   ],
   "source": [
    "\"5\" + str(5)      # Output: '55'\n",
    "a =4.5\n",
    "b =2\n",
    "c=a/b\n",
    "c\n"
   ]
  },
  {
   "cell_type": "code",
   "execution_count": 89,
   "metadata": {},
   "outputs": [],
   "source": [
    "# some_module.py\n",
    "PI = 3.14159\n",
    "def f(x):\n",
    "  \n",
    "  return x + 2\n",
    "def g(a, b):\n",
    "   \n",
    "   return a + b\n"
   ]
  },
  {
   "cell_type": "code",
   "execution_count": 90,
   "id": "62b72e3e",
   "metadata": {},
   "outputs": [],
   "source": [
    "a = None\n",
    "b = 5\n",
    "\n",
    "def add_and_maybe_multiply(a, b, c=None):\n",
    " \n",
    "    result = a + b\n",
    "    if c is not None:\n",
    "      result = result * c\n",
    "    return result\n"
   ]
  },
  {
   "cell_type": "code",
   "execution_count": 91,
   "id": "49c25d2e",
   "metadata": {},
   "outputs": [
    {
     "data": {
      "text/plain": [
       "datetime.time(20, 30, 21)"
      ]
     },
     "execution_count": 91,
     "metadata": {},
     "output_type": "execute_result"
    }
   ],
   "source": [
    "\n",
    "from datetime import datetime, date, time\n",
    "dt = datetime(2011, 10, 29, 20, 30, 21)\n",
    "dt.date()\n",
    "dt.time()\n"
   ]
  },
  {
   "cell_type": "code",
   "execution_count": 92,
   "id": "6cfe0b4a",
   "metadata": {},
   "outputs": [
    {
     "data": {
      "text/plain": [
       "'2011-10-29 20:30'"
      ]
     },
     "execution_count": 92,
     "metadata": {},
     "output_type": "execute_result"
    }
   ],
   "source": [
    "dt.strftime(\"%Y-%m-%d %H:%M\")"
   ]
  },
  {
   "cell_type": "code",
   "execution_count": 93,
   "id": "d81f5b65",
   "metadata": {},
   "outputs": [
    {
     "data": {
      "text/plain": [
       "datetime.datetime(2025, 7, 26, 0, 0)"
      ]
     },
     "execution_count": 93,
     "metadata": {},
     "output_type": "execute_result"
    }
   ],
   "source": [
    "datetime.strptime(\"20250726\", \"%Y%m%d\")\n"
   ]
  },
  {
   "cell_type": "code",
   "execution_count": 94,
   "id": "862c42b8",
   "metadata": {},
   "outputs": [
    {
     "name": "stdout",
     "output_type": "stream",
     "text": [
      "negative number\n"
     ]
    }
   ],
   "source": [
    "X =-5\n",
    "if X< 0:\n",
    "    print(\"negative number\" )"
   ]
  },
  {
   "cell_type": "code",
   "execution_count": 95,
   "id": "90530840",
   "metadata": {},
   "outputs": [
    {
     "name": "stdout",
     "output_type": "stream",
     "text": [
      "equal to number \n"
     ]
    }
   ],
   "source": [
    "x=0\n",
    "if x<0:\n",
    "    print(\"negative number\")\n",
    "elif x==0:\n",
    "    print(\"equal to number \")\n",
    "elif 0 > x and x < 5:\n",
    "    print(\"Zero se bata but five se chota\")\n",
    "else:\n",
    "    print(\"positive and larger eqal to \")          "
   ]
  },
  {
   "cell_type": "code",
   "execution_count": 96,
   "id": "02f2d0b4",
   "metadata": {},
   "outputs": [
    {
     "name": "stdout",
     "output_type": "stream",
     "text": [
      "not made it\n"
     ]
    }
   ],
   "source": [
    "a =5; b = 7;  c = 8;  d = 4;\n",
    "if a < b and c< d:\n",
    "    print(\"made it\")\n",
    "else:\n",
    "    print(\"not made it\")    "
   ]
  },
  {
   "cell_type": "code",
   "execution_count": 97,
   "id": "f1e19a1e",
   "metadata": {},
   "outputs": [
    {
     "name": "stdout",
     "output_type": "stream",
     "text": [
      "5\n"
     ]
    }
   ],
   "source": [
    "list =[1,2,0,4,6,5,2,1]\n",
    "total_until_5=0\n",
    "for value in list:\n",
    "    if value == 5:\n",
    "        break\n",
    "    total_until_5 +=value  \n",
    "print(value)  "
   ]
  },
  {
   "cell_type": "code",
   "execution_count": 98,
   "id": "9c40a0ac",
   "metadata": {},
   "outputs": [
    {
     "name": "stdout",
     "output_type": "stream",
     "text": [
      "(0, 0)\n",
      "(1, 0)\n",
      "(1, 1)\n",
      "(2, 0)\n",
      "(2, 1)\n",
      "(2, 2)\n",
      "(3, 0)\n",
      "(3, 1)\n",
      "(3, 2)\n",
      "(3, 3)\n"
     ]
    }
   ],
   "source": [
    "for i in range(4):\n",
    "    for j in range(4):\n",
    "        if j > i:\n",
    "            break\n",
    "        print((i,j))"
   ]
  },
  {
   "cell_type": "code",
   "execution_count": 99,
   "id": "f957a70a",
   "metadata": {},
   "outputs": [
    {
     "name": "stdout",
     "output_type": "stream",
     "text": [
      "128\n",
      "64\n",
      "32\n",
      "16\n",
      "8\n",
      "4\n"
     ]
    }
   ],
   "source": [
    "x = 256\n",
    "total = 0\n",
    "while x > 0:\n",
    " if total > 500:\n",
    "    break\n",
    " total += x\n",
    " x = x // 2\n",
    " print(x) \n"
   ]
  },
  {
   "cell_type": "code",
   "execution_count": 100,
   "id": "c7ab5140",
   "metadata": {},
   "outputs": [
    {
     "name": "stdout",
     "output_type": "stream",
     "text": [
      "positive!\n"
     ]
    }
   ],
   "source": [
    "if x < 0:\n",
    " print(\"negative!\")\n",
    "elif x == 0:\n",
    " # TODO: put something smart here\n",
    " pass\n",
    "else:\n",
    " print(\"positive!\")"
   ]
  },
  {
   "cell_type": "code",
   "execution_count": 104,
   "id": "5e38aae9",
   "metadata": {},
   "outputs": [],
   "source": [
    "del list"
   ]
  },
  {
   "cell_type": "code",
   "execution_count": 105,
   "id": "cc5b5633",
   "metadata": {},
   "outputs": [
    {
     "data": {
      "text/plain": [
       "[0, 1, 2, 3, 4, 5, 6, 7, 8, 9]"
      ]
     },
     "execution_count": 105,
     "metadata": {},
     "output_type": "execute_result"
    }
   ],
   "source": [
    "list(range(10))"
   ]
  },
  {
   "cell_type": "code",
   "execution_count": 106,
   "id": "82ef4cdc",
   "metadata": {},
   "outputs": [
    {
     "data": {
      "text/plain": [
       "[0, 2, 4, 6, 8, 10, 12, 14, 16, 18]"
      ]
     },
     "execution_count": 106,
     "metadata": {},
     "output_type": "execute_result"
    }
   ],
   "source": [
    "list(range(0,20,2))"
   ]
  },
  {
   "cell_type": "code",
   "execution_count": 108,
   "id": "c870e7f4",
   "metadata": {},
   "outputs": [
    {
     "data": {
      "text/plain": [
       "[0, 3, 6, 9, 12, 15, 18]"
      ]
     },
     "execution_count": 108,
     "metadata": {},
     "output_type": "execute_result"
    }
   ],
   "source": [
    "list(range(0,20,3))"
   ]
  },
  {
   "cell_type": "code",
   "execution_count": null,
   "id": "675db46c",
   "metadata": {},
   "outputs": [],
   "source": []
  },
  {
   "cell_type": "code",
   "execution_count": null,
   "id": "74f0031a",
   "metadata": {},
   "outputs": [],
   "source": []
  },
  {
   "cell_type": "code",
   "execution_count": null,
   "id": "effcccf7",
   "metadata": {},
   "outputs": [],
   "source": []
  },
  {
   "cell_type": "code",
   "execution_count": null,
   "id": "91fd989a",
   "metadata": {},
   "outputs": [],
   "source": []
  },
  {
   "cell_type": "code",
   "execution_count": null,
   "id": "7095577d",
   "metadata": {},
   "outputs": [],
   "source": []
  },
  {
   "cell_type": "code",
   "execution_count": null,
   "id": "6e82578e",
   "metadata": {},
   "outputs": [],
   "source": []
  },
  {
   "cell_type": "code",
   "execution_count": null,
   "id": "aa6ee751",
   "metadata": {},
   "outputs": [],
   "source": []
  },
  {
   "cell_type": "code",
   "execution_count": null,
   "id": "5b0cb3d8",
   "metadata": {},
   "outputs": [],
   "source": []
  },
  {
   "cell_type": "code",
   "execution_count": null,
   "id": "d1e8b105",
   "metadata": {},
   "outputs": [],
   "source": []
  }
 ],
 "metadata": {
  "kernelspec": {
   "display_name": "Python (new_mldl)",
   "language": "python",
   "name": "new_mldl"
  },
  "language_info": {
   "codemirror_mode": {
    "name": "ipython",
    "version": 3
   },
   "file_extension": ".py",
   "mimetype": "text/x-python",
   "name": "python",
   "nbconvert_exporter": "python",
   "pygments_lexer": "ipython3",
   "version": "3.12.2"
  }
 },
 "nbformat": 4,
 "nbformat_minor": 5
}
