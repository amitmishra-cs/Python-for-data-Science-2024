{
 "cells": [
  {
   "cell_type": "code",
   "execution_count": 1,
   "metadata": {},
   "outputs": [],
   "source": [
    "import pandas as pd\n",
    "import numpy as np "
   ]
  },
  {
   "cell_type": "code",
   "execution_count": 2,
   "metadata": {},
   "outputs": [
    {
     "data": {
      "text/plain": [
       "0      Friday\n",
       "1    Saturday\n",
       "2    Saturday\n",
       "dtype: object"
      ]
     },
     "execution_count": 2,
     "metadata": {},
     "output_type": "execute_result"
    }
   ],
   "source": [
    "# till now\n",
    "# Timestamp\n",
    "pd.Timestamp('6th jan 2023 8:10')\n",
    "# DatetimeIndex -> df and series index\n",
    "pd.DatetimeIndex([pd.Timestamp('6th jan 2023 8:10'),pd.Timestamp('7th jan 2023 8:10'),pd.Timestamp('8th jan 2023 8:10')])[0]\n",
    "# date_range()\n",
    "pd.date_range(start='2023-1-6',end='2023-1-31',freq='D')\n",
    "# to_datetime()\n",
    "s = pd.Series(['2023/1/6','2023/1/7','2023/1/7'])\n",
    "pd.to_datetime(s).dt.day_name()"
   ]
  },
  {
   "cell_type": "markdown",
   "metadata": {},
   "source": [
    "# Timedelta Object\n",
    "Represents a duration, the difference between two dates or times."
   ]
  },
  {
   "cell_type": "code",
   "execution_count": 3,
   "metadata": {},
   "outputs": [
    {
     "data": {
      "text/plain": [
       "Timedelta('385 days 00:52:20')"
      ]
     },
     "execution_count": 3,
     "metadata": {},
     "output_type": "execute_result"
    }
   ],
   "source": [
    "# create using Timestamp object\n",
    "t1 = pd.Timestamp('6th Jan 2023 8:20:20')\n",
    "t2 = pd.Timestamp('26th Jan 2024 9:12:40')\n",
    "\n",
    "t2 -t1 "
   ]
  },
  {
   "cell_type": "code",
   "execution_count": 4,
   "metadata": {},
   "outputs": [
    {
     "data": {
      "text/plain": [
       "Timedelta('2 days 10:35:00')"
      ]
     },
     "execution_count": 4,
     "metadata": {},
     "output_type": "execute_result"
    }
   ],
   "source": [
    "pd.Timedelta(days=2 ,hours=10, minutes=35)"
   ]
  },
  {
   "cell_type": "code",
   "execution_count": 5,
   "metadata": {},
   "outputs": [
    {
     "data": {
      "text/plain": [
       "Timestamp('2023-01-08 10:35:00')"
      ]
     },
     "execution_count": 5,
     "metadata": {},
     "output_type": "execute_result"
    }
   ],
   "source": [
    "pd.Timestamp('6th Jan 2023') + pd.Timedelta(days=2, hours=10, minutes=35)"
   ]
  },
  {
   "cell_type": "code",
   "execution_count": 6,
   "metadata": {},
   "outputs": [
    {
     "data": {
      "text/plain": [
       "DatetimeIndex(['2023-01-08 10:35:00', '2023-01-09 10:35:00',\n",
       "               '2023-01-10 10:35:00', '2023-01-11 10:35:00',\n",
       "               '2023-01-12 10:35:00', '2023-01-13 10:35:00',\n",
       "               '2023-01-14 10:35:00', '2023-01-15 10:35:00',\n",
       "               '2023-01-16 10:35:00', '2023-01-17 10:35:00',\n",
       "               '2023-01-18 10:35:00', '2023-01-19 10:35:00',\n",
       "               '2023-01-20 10:35:00', '2023-01-21 10:35:00',\n",
       "               '2023-01-22 10:35:00', '2023-01-23 10:35:00',\n",
       "               '2023-01-24 10:35:00', '2023-01-25 10:35:00',\n",
       "               '2023-01-26 10:35:00', '2023-01-27 10:35:00',\n",
       "               '2023-01-28 10:35:00', '2023-01-29 10:35:00',\n",
       "               '2023-01-30 10:35:00', '2023-01-31 10:35:00',\n",
       "               '2023-02-01 10:35:00', '2023-02-02 10:35:00'],\n",
       "              dtype='datetime64[ns]', freq='D')"
      ]
     },
     "execution_count": 6,
     "metadata": {},
     "output_type": "execute_result"
    }
   ],
   "source": [
    "pd.date_range(start='2023-1-6', end='2023-1-31', freq='D') + pd.Timedelta(days=2, hours=10, minutes=35)"
   ]
  },
  {
   "cell_type": "code",
   "execution_count": 7,
   "metadata": {},
   "outputs": [
    {
     "data": {
      "text/html": [
       "<div>\n",
       "<style scoped>\n",
       "    .dataframe tbody tr th:only-of-type {\n",
       "        vertical-align: middle;\n",
       "    }\n",
       "\n",
       "    .dataframe tbody tr th {\n",
       "        vertical-align: top;\n",
       "    }\n",
       "\n",
       "    .dataframe thead th {\n",
       "        text-align: right;\n",
       "    }\n",
       "</style>\n",
       "<table border=\"1\" class=\"dataframe\">\n",
       "  <thead>\n",
       "    <tr style=\"text-align: right;\">\n",
       "      <th></th>\n",
       "      <th>order_date</th>\n",
       "      <th>delivery_date</th>\n",
       "    </tr>\n",
       "  </thead>\n",
       "  <tbody>\n",
       "    <tr>\n",
       "      <th>0</th>\n",
       "      <td>5/24/98</td>\n",
       "      <td>2/5/99</td>\n",
       "    </tr>\n",
       "    <tr>\n",
       "      <th>1</th>\n",
       "      <td>4/22/92</td>\n",
       "      <td>3/6/98</td>\n",
       "    </tr>\n",
       "    <tr>\n",
       "      <th>2</th>\n",
       "      <td>2/10/91</td>\n",
       "      <td>8/26/92</td>\n",
       "    </tr>\n",
       "    <tr>\n",
       "      <th>3</th>\n",
       "      <td>7/21/92</td>\n",
       "      <td>11/20/97</td>\n",
       "    </tr>\n",
       "    <tr>\n",
       "      <th>4</th>\n",
       "      <td>9/2/93</td>\n",
       "      <td>6/10/98</td>\n",
       "    </tr>\n",
       "  </tbody>\n",
       "</table>\n",
       "</div>"
      ],
      "text/plain": [
       "  order_date delivery_date\n",
       "0    5/24/98        2/5/99\n",
       "1    4/22/92        3/6/98\n",
       "2    2/10/91       8/26/92\n",
       "3    7/21/92      11/20/97\n",
       "4     9/2/93       6/10/98"
      ]
     },
     "execution_count": 7,
     "metadata": {},
     "output_type": "execute_result"
    }
   ],
   "source": [
    "# real life example\n",
    "\n",
    "df =pd.read_csv(\"deliveries (2).csv\")\n",
    "df.head()"
   ]
  },
  {
   "cell_type": "code",
   "execution_count": 8,
   "metadata": {},
   "outputs": [
    {
     "data": {
      "text/plain": [
       "(501, 2)"
      ]
     },
     "execution_count": 8,
     "metadata": {},
     "output_type": "execute_result"
    }
   ],
   "source": [
    "df.shape"
   ]
  },
  {
   "cell_type": "code",
   "execution_count": 9,
   "metadata": {},
   "outputs": [
    {
     "name": "stdout",
     "output_type": "stream",
     "text": [
      "<class 'pandas.core.frame.DataFrame'>\n",
      "RangeIndex: 501 entries, 0 to 500\n",
      "Data columns (total 2 columns):\n",
      " #   Column         Non-Null Count  Dtype \n",
      "---  ------         --------------  ----- \n",
      " 0   order_date     501 non-null    object\n",
      " 1   delivery_date  501 non-null    object\n",
      "dtypes: object(2)\n",
      "memory usage: 8.0+ KB\n"
     ]
    }
   ],
   "source": [
    "df.info()"
   ]
  },
  {
   "cell_type": "code",
   "execution_count": 10,
   "metadata": {},
   "outputs": [
    {
     "name": "stderr",
     "output_type": "stream",
     "text": [
      "C:\\Users\\Engineer\\AppData\\Local\\Temp\\ipykernel_10108\\3472121163.py:1: UserWarning: Could not infer format, so each element will be parsed individually, falling back to `dateutil`. To ensure parsing is consistent and as-expected, please specify a format.\n",
      "  df['order_date'] = pd.to_datetime(df['order_date'])\n",
      "C:\\Users\\Engineer\\AppData\\Local\\Temp\\ipykernel_10108\\3472121163.py:2: UserWarning: Could not infer format, so each element will be parsed individually, falling back to `dateutil`. To ensure parsing is consistent and as-expected, please specify a format.\n",
      "  df['delivery_date'] = pd.to_datetime(df['delivery_date'])\n"
     ]
    }
   ],
   "source": [
    "df['order_date'] = pd.to_datetime(df['order_date'])\n",
    "df['delivery_date'] = pd.to_datetime(df['delivery_date'])"
   ]
  },
  {
   "cell_type": "code",
   "execution_count": 11,
   "metadata": {},
   "outputs": [
    {
     "data": {
      "text/html": [
       "<div>\n",
       "<style scoped>\n",
       "    .dataframe tbody tr th:only-of-type {\n",
       "        vertical-align: middle;\n",
       "    }\n",
       "\n",
       "    .dataframe tbody tr th {\n",
       "        vertical-align: top;\n",
       "    }\n",
       "\n",
       "    .dataframe thead th {\n",
       "        text-align: right;\n",
       "    }\n",
       "</style>\n",
       "<table border=\"1\" class=\"dataframe\">\n",
       "  <thead>\n",
       "    <tr style=\"text-align: right;\">\n",
       "      <th></th>\n",
       "      <th>order_date</th>\n",
       "      <th>delivery_date</th>\n",
       "      <th>delivery time period</th>\n",
       "    </tr>\n",
       "  </thead>\n",
       "  <tbody>\n",
       "    <tr>\n",
       "      <th>0</th>\n",
       "      <td>1998-05-24</td>\n",
       "      <td>1999-02-05</td>\n",
       "      <td>257 days</td>\n",
       "    </tr>\n",
       "    <tr>\n",
       "      <th>1</th>\n",
       "      <td>1992-04-22</td>\n",
       "      <td>1998-03-06</td>\n",
       "      <td>2144 days</td>\n",
       "    </tr>\n",
       "    <tr>\n",
       "      <th>2</th>\n",
       "      <td>1991-02-10</td>\n",
       "      <td>1992-08-26</td>\n",
       "      <td>563 days</td>\n",
       "    </tr>\n",
       "    <tr>\n",
       "      <th>3</th>\n",
       "      <td>1992-07-21</td>\n",
       "      <td>1997-11-20</td>\n",
       "      <td>1948 days</td>\n",
       "    </tr>\n",
       "    <tr>\n",
       "      <th>4</th>\n",
       "      <td>1993-09-02</td>\n",
       "      <td>1998-06-10</td>\n",
       "      <td>1742 days</td>\n",
       "    </tr>\n",
       "  </tbody>\n",
       "</table>\n",
       "</div>"
      ],
      "text/plain": [
       "  order_date delivery_date delivery time period\n",
       "0 1998-05-24    1999-02-05             257 days\n",
       "1 1992-04-22    1998-03-06            2144 days\n",
       "2 1991-02-10    1992-08-26             563 days\n",
       "3 1992-07-21    1997-11-20            1948 days\n",
       "4 1993-09-02    1998-06-10            1742 days"
      ]
     },
     "execution_count": 11,
     "metadata": {},
     "output_type": "execute_result"
    }
   ],
   "source": [
    "df['delivery time period']=df['delivery_date'] -df['order_date']\n",
    "df.head()"
   ]
  },
  {
   "cell_type": "code",
   "execution_count": 12,
   "metadata": {},
   "outputs": [
    {
     "data": {
      "text/plain": [
       "order_date              1993-08-09 19:12:00\n",
       "delivery_date           1997-04-01 14:24:00\n",
       "delivery time period     1330 days 19:12:00\n",
       "dtype: object"
      ]
     },
     "execution_count": 12,
     "metadata": {},
     "output_type": "execute_result"
    }
   ],
   "source": [
    "df['delivery time period']=df['delivery_date'] -df['order_date']\n",
    "df.head().mean()"
   ]
  },
  {
   "cell_type": "markdown",
   "metadata": {},
   "source": [
    "### Time series\n",
    "\n",
    "A time series is a data set that tracks a sample over time. In particular, a time series allows one to see what factors influence certain variables from period to period. Time series analysis can be useful to see how a given asset, security, or economic variable changes over time.\n",
    "\n",
    "Examples\n",
    "\n",
    "- Financial Data (Company stocks)\n",
    "- Natural Data (Rainfall measurement)\n",
    "- Event Data (Covid)\n",
    "- Medical Data (Heart rate monitoring)\n",
    "\n",
    "Types of Operations done on Time Series\n",
    "\n",
    "- Time Series Analysis\n",
    "- Time Series Forecasting"
   ]
  },
  {
   "cell_type": "code",
   "execution_count": 13,
   "metadata": {},
   "outputs": [
    {
     "data": {
      "text/html": [
       "<div>\n",
       "<style scoped>\n",
       "    .dataframe tbody tr th:only-of-type {\n",
       "        vertical-align: middle;\n",
       "    }\n",
       "\n",
       "    .dataframe tbody tr th {\n",
       "        vertical-align: top;\n",
       "    }\n",
       "\n",
       "    .dataframe thead th {\n",
       "        text-align: right;\n",
       "    }\n",
       "</style>\n",
       "<table border=\"1\" class=\"dataframe\">\n",
       "  <thead>\n",
       "    <tr style=\"text-align: right;\">\n",
       "      <th></th>\n",
       "      <th>Date</th>\n",
       "      <th>Open</th>\n",
       "      <th>High</th>\n",
       "      <th>Low</th>\n",
       "      <th>Close</th>\n",
       "      <th>Adj Close</th>\n",
       "      <th>Volume</th>\n",
       "    </tr>\n",
       "  </thead>\n",
       "  <tbody>\n",
       "    <tr>\n",
       "      <th>0</th>\n",
       "      <td>2004-08-19</td>\n",
       "      <td>49.813290</td>\n",
       "      <td>51.835709</td>\n",
       "      <td>47.800831</td>\n",
       "      <td>49.982655</td>\n",
       "      <td>49.982655</td>\n",
       "      <td>44871361</td>\n",
       "    </tr>\n",
       "    <tr>\n",
       "      <th>1</th>\n",
       "      <td>2004-08-20</td>\n",
       "      <td>50.316402</td>\n",
       "      <td>54.336334</td>\n",
       "      <td>50.062355</td>\n",
       "      <td>53.952770</td>\n",
       "      <td>53.952770</td>\n",
       "      <td>22942874</td>\n",
       "    </tr>\n",
       "    <tr>\n",
       "      <th>2</th>\n",
       "      <td>2004-08-23</td>\n",
       "      <td>55.168217</td>\n",
       "      <td>56.528118</td>\n",
       "      <td>54.321388</td>\n",
       "      <td>54.495735</td>\n",
       "      <td>54.495735</td>\n",
       "      <td>18342897</td>\n",
       "    </tr>\n",
       "    <tr>\n",
       "      <th>3</th>\n",
       "      <td>2004-08-24</td>\n",
       "      <td>55.412300</td>\n",
       "      <td>55.591629</td>\n",
       "      <td>51.591621</td>\n",
       "      <td>52.239197</td>\n",
       "      <td>52.239197</td>\n",
       "      <td>15319808</td>\n",
       "    </tr>\n",
       "    <tr>\n",
       "      <th>4</th>\n",
       "      <td>2004-08-25</td>\n",
       "      <td>52.284027</td>\n",
       "      <td>53.798351</td>\n",
       "      <td>51.746044</td>\n",
       "      <td>52.802086</td>\n",
       "      <td>52.802086</td>\n",
       "      <td>9232276</td>\n",
       "    </tr>\n",
       "  </tbody>\n",
       "</table>\n",
       "</div>"
      ],
      "text/plain": [
       "         Date       Open       High        Low      Close  Adj Close    Volume\n",
       "0  2004-08-19  49.813290  51.835709  47.800831  49.982655  49.982655  44871361\n",
       "1  2004-08-20  50.316402  54.336334  50.062355  53.952770  53.952770  22942874\n",
       "2  2004-08-23  55.168217  56.528118  54.321388  54.495735  54.495735  18342897\n",
       "3  2004-08-24  55.412300  55.591629  51.591621  52.239197  52.239197  15319808\n",
       "4  2004-08-25  52.284027  53.798351  51.746044  52.802086  52.802086   9232276"
      ]
     },
     "execution_count": 13,
     "metadata": {},
     "output_type": "execute_result"
    }
   ],
   "source": [
    "google =pd.read_csv('google.csv')\n",
    "google.head()"
   ]
  },
  {
   "cell_type": "code",
   "execution_count": 14,
   "metadata": {},
   "outputs": [
    {
     "data": {
      "text/html": [
       "<div>\n",
       "<style scoped>\n",
       "    .dataframe tbody tr th:only-of-type {\n",
       "        vertical-align: middle;\n",
       "    }\n",
       "\n",
       "    .dataframe tbody tr th {\n",
       "        vertical-align: top;\n",
       "    }\n",
       "\n",
       "    .dataframe thead th {\n",
       "        text-align: right;\n",
       "    }\n",
       "</style>\n",
       "<table border=\"1\" class=\"dataframe\">\n",
       "  <thead>\n",
       "    <tr style=\"text-align: right;\">\n",
       "      <th></th>\n",
       "      <th>Date</th>\n",
       "      <th>Open</th>\n",
       "      <th>High</th>\n",
       "      <th>Low</th>\n",
       "      <th>Close</th>\n",
       "      <th>Adj Close</th>\n",
       "      <th>Volume</th>\n",
       "    </tr>\n",
       "  </thead>\n",
       "  <tbody>\n",
       "    <tr>\n",
       "      <th>4466</th>\n",
       "      <td>2022-05-16</td>\n",
       "      <td>2307.679932</td>\n",
       "      <td>2332.149902</td>\n",
       "      <td>2286.699951</td>\n",
       "      <td>2295.850098</td>\n",
       "      <td>2295.850098</td>\n",
       "      <td>1164100</td>\n",
       "    </tr>\n",
       "    <tr>\n",
       "      <th>4467</th>\n",
       "      <td>2022-05-17</td>\n",
       "      <td>2344.550049</td>\n",
       "      <td>2344.550049</td>\n",
       "      <td>2306.750000</td>\n",
       "      <td>2334.030029</td>\n",
       "      <td>2334.030029</td>\n",
       "      <td>1078800</td>\n",
       "    </tr>\n",
       "    <tr>\n",
       "      <th>4468</th>\n",
       "      <td>2022-05-18</td>\n",
       "      <td>2304.750000</td>\n",
       "      <td>2313.913086</td>\n",
       "      <td>2242.840088</td>\n",
       "      <td>2248.020020</td>\n",
       "      <td>2248.020020</td>\n",
       "      <td>1399100</td>\n",
       "    </tr>\n",
       "    <tr>\n",
       "      <th>4469</th>\n",
       "      <td>2022-05-19</td>\n",
       "      <td>2236.820068</td>\n",
       "      <td>2271.750000</td>\n",
       "      <td>2209.360107</td>\n",
       "      <td>2214.909912</td>\n",
       "      <td>2214.909912</td>\n",
       "      <td>1459600</td>\n",
       "    </tr>\n",
       "    <tr>\n",
       "      <th>4470</th>\n",
       "      <td>2022-05-20</td>\n",
       "      <td>2241.709961</td>\n",
       "      <td>2251.000000</td>\n",
       "      <td>2127.459961</td>\n",
       "      <td>2186.260010</td>\n",
       "      <td>2186.260010</td>\n",
       "      <td>1878100</td>\n",
       "    </tr>\n",
       "  </tbody>\n",
       "</table>\n",
       "</div>"
      ],
      "text/plain": [
       "            Date         Open         High          Low        Close  \\\n",
       "4466  2022-05-16  2307.679932  2332.149902  2286.699951  2295.850098   \n",
       "4467  2022-05-17  2344.550049  2344.550049  2306.750000  2334.030029   \n",
       "4468  2022-05-18  2304.750000  2313.913086  2242.840088  2248.020020   \n",
       "4469  2022-05-19  2236.820068  2271.750000  2209.360107  2214.909912   \n",
       "4470  2022-05-20  2241.709961  2251.000000  2127.459961  2186.260010   \n",
       "\n",
       "        Adj Close   Volume  \n",
       "4466  2295.850098  1164100  \n",
       "4467  2334.030029  1078800  \n",
       "4468  2248.020020  1399100  \n",
       "4469  2214.909912  1459600  \n",
       "4470  2186.260010  1878100  "
      ]
     },
     "execution_count": 14,
     "metadata": {},
     "output_type": "execute_result"
    }
   ],
   "source": [
    "google.tail()"
   ]
  },
  {
   "cell_type": "code",
   "execution_count": 15,
   "metadata": {},
   "outputs": [],
   "source": [
    "google['Date'] = pd.to_datetime(google['Date'])"
   ]
  },
  {
   "cell_type": "code",
   "execution_count": 16,
   "metadata": {},
   "outputs": [
    {
     "name": "stdout",
     "output_type": "stream",
     "text": [
      "<class 'pandas.core.frame.DataFrame'>\n",
      "RangeIndex: 4471 entries, 0 to 4470\n",
      "Data columns (total 7 columns):\n",
      " #   Column     Non-Null Count  Dtype         \n",
      "---  ------     --------------  -----         \n",
      " 0   Date       4471 non-null   datetime64[ns]\n",
      " 1   Open       4471 non-null   float64       \n",
      " 2   High       4471 non-null   float64       \n",
      " 3   Low        4471 non-null   float64       \n",
      " 4   Close      4471 non-null   float64       \n",
      " 5   Adj Close  4471 non-null   float64       \n",
      " 6   Volume     4471 non-null   int64         \n",
      "dtypes: datetime64[ns](1), float64(5), int64(1)\n",
      "memory usage: 244.6 KB\n"
     ]
    }
   ],
   "source": [
    "google.info()"
   ]
  },
  {
   "cell_type": "code",
   "execution_count": 17,
   "metadata": {},
   "outputs": [],
   "source": [
    "google.set_index('Date', inplace=True)"
   ]
  },
  {
   "cell_type": "code",
   "execution_count": 18,
   "metadata": {},
   "outputs": [
    {
     "data": {
      "text/plain": [
       "Open           2929.000000\n",
       "High           2941.250000\n",
       "Low            2915.169922\n",
       "Close          2920.050049\n",
       "Adj Close      2920.050049\n",
       "Volume       648900.000000\n",
       "Name: 2021-12-30 00:00:00, dtype: float64"
      ]
     },
     "execution_count": 18,
     "metadata": {},
     "output_type": "execute_result"
    }
   ],
   "source": [
    "# fetch a specific date\n",
    "google.loc['2021-12-30']"
   ]
  },
  {
   "cell_type": "code",
   "execution_count": 19,
   "metadata": {},
   "outputs": [],
   "source": [
    "# sclicing\n"
   ]
  },
  {
   "cell_type": "code",
   "execution_count": 20,
   "metadata": {},
   "outputs": [
    {
     "data": {
      "text/html": [
       "<div>\n",
       "<style scoped>\n",
       "    .dataframe tbody tr th:only-of-type {\n",
       "        vertical-align: middle;\n",
       "    }\n",
       "\n",
       "    .dataframe tbody tr th {\n",
       "        vertical-align: top;\n",
       "    }\n",
       "\n",
       "    .dataframe thead th {\n",
       "        text-align: right;\n",
       "    }\n",
       "</style>\n",
       "<table border=\"1\" class=\"dataframe\">\n",
       "  <thead>\n",
       "    <tr style=\"text-align: right;\">\n",
       "      <th></th>\n",
       "      <th>Open</th>\n",
       "      <th>High</th>\n",
       "      <th>Low</th>\n",
       "      <th>Close</th>\n",
       "      <th>Adj Close</th>\n",
       "      <th>Volume</th>\n",
       "    </tr>\n",
       "    <tr>\n",
       "      <th>Date</th>\n",
       "      <th></th>\n",
       "      <th></th>\n",
       "      <th></th>\n",
       "      <th></th>\n",
       "      <th></th>\n",
       "      <th></th>\n",
       "    </tr>\n",
       "  </thead>\n",
       "  <tbody>\n",
       "    <tr>\n",
       "      <th>2005-01-06</th>\n",
       "      <td>97.175758</td>\n",
       "      <td>97.584229</td>\n",
       "      <td>93.509506</td>\n",
       "      <td>93.922951</td>\n",
       "      <td>93.922951</td>\n",
       "      <td>20852067</td>\n",
       "    </tr>\n",
       "    <tr>\n",
       "      <th>2006-01-06</th>\n",
       "      <td>227.581970</td>\n",
       "      <td>234.371521</td>\n",
       "      <td>225.773743</td>\n",
       "      <td>231.960556</td>\n",
       "      <td>231.960556</td>\n",
       "      <td>35646914</td>\n",
       "    </tr>\n",
       "    <tr>\n",
       "      <th>2009-01-06</th>\n",
       "      <td>165.868286</td>\n",
       "      <td>169.763687</td>\n",
       "      <td>162.585587</td>\n",
       "      <td>166.406265</td>\n",
       "      <td>166.406265</td>\n",
       "      <td>12898566</td>\n",
       "    </tr>\n",
       "    <tr>\n",
       "      <th>2010-01-06</th>\n",
       "      <td>311.761444</td>\n",
       "      <td>311.761444</td>\n",
       "      <td>302.047852</td>\n",
       "      <td>302.994293</td>\n",
       "      <td>302.994293</td>\n",
       "      <td>7987226</td>\n",
       "    </tr>\n",
       "    <tr>\n",
       "      <th>2011-01-06</th>\n",
       "      <td>304.199799</td>\n",
       "      <td>308.060303</td>\n",
       "      <td>303.885956</td>\n",
       "      <td>305.604523</td>\n",
       "      <td>305.604523</td>\n",
       "      <td>4131026</td>\n",
       "    </tr>\n",
       "    <tr>\n",
       "      <th>2012-01-06</th>\n",
       "      <td>328.344299</td>\n",
       "      <td>328.767700</td>\n",
       "      <td>323.681763</td>\n",
       "      <td>323.796326</td>\n",
       "      <td>323.796326</td>\n",
       "      <td>5405987</td>\n",
       "    </tr>\n",
       "    <tr>\n",
       "      <th>2014-01-06</th>\n",
       "      <td>554.426880</td>\n",
       "      <td>557.340942</td>\n",
       "      <td>551.154114</td>\n",
       "      <td>556.573853</td>\n",
       "      <td>556.573853</td>\n",
       "      <td>3551864</td>\n",
       "    </tr>\n",
       "    <tr>\n",
       "      <th>2015-01-06</th>\n",
       "      <td>513.589966</td>\n",
       "      <td>514.761719</td>\n",
       "      <td>499.678131</td>\n",
       "      <td>500.585632</td>\n",
       "      <td>500.585632</td>\n",
       "      <td>2899940</td>\n",
       "    </tr>\n",
       "    <tr>\n",
       "      <th>2016-01-06</th>\n",
       "      <td>730.000000</td>\n",
       "      <td>747.179993</td>\n",
       "      <td>728.919983</td>\n",
       "      <td>743.619995</td>\n",
       "      <td>743.619995</td>\n",
       "      <td>1947000</td>\n",
       "    </tr>\n",
       "    <tr>\n",
       "      <th>2017-01-06</th>\n",
       "      <td>795.260010</td>\n",
       "      <td>807.900024</td>\n",
       "      <td>792.203979</td>\n",
       "      <td>806.150024</td>\n",
       "      <td>806.150024</td>\n",
       "      <td>1640200</td>\n",
       "    </tr>\n",
       "    <tr>\n",
       "      <th>2020-01-06</th>\n",
       "      <td>1350.000000</td>\n",
       "      <td>1396.500000</td>\n",
       "      <td>1350.000000</td>\n",
       "      <td>1394.209961</td>\n",
       "      <td>1394.209961</td>\n",
       "      <td>1732300</td>\n",
       "    </tr>\n",
       "    <tr>\n",
       "      <th>2021-01-06</th>\n",
       "      <td>1702.630005</td>\n",
       "      <td>1748.000000</td>\n",
       "      <td>1699.000000</td>\n",
       "      <td>1735.290039</td>\n",
       "      <td>1735.290039</td>\n",
       "      <td>2602100</td>\n",
       "    </tr>\n",
       "    <tr>\n",
       "      <th>2022-01-06</th>\n",
       "      <td>2749.949951</td>\n",
       "      <td>2793.719971</td>\n",
       "      <td>2735.270020</td>\n",
       "      <td>2751.020020</td>\n",
       "      <td>2751.020020</td>\n",
       "      <td>1452500</td>\n",
       "    </tr>\n",
       "  </tbody>\n",
       "</table>\n",
       "</div>"
      ],
      "text/plain": [
       "                   Open         High          Low        Close    Adj Close  \\\n",
       "Date                                                                          \n",
       "2005-01-06    97.175758    97.584229    93.509506    93.922951    93.922951   \n",
       "2006-01-06   227.581970   234.371521   225.773743   231.960556   231.960556   \n",
       "2009-01-06   165.868286   169.763687   162.585587   166.406265   166.406265   \n",
       "2010-01-06   311.761444   311.761444   302.047852   302.994293   302.994293   \n",
       "2011-01-06   304.199799   308.060303   303.885956   305.604523   305.604523   \n",
       "2012-01-06   328.344299   328.767700   323.681763   323.796326   323.796326   \n",
       "2014-01-06   554.426880   557.340942   551.154114   556.573853   556.573853   \n",
       "2015-01-06   513.589966   514.761719   499.678131   500.585632   500.585632   \n",
       "2016-01-06   730.000000   747.179993   728.919983   743.619995   743.619995   \n",
       "2017-01-06   795.260010   807.900024   792.203979   806.150024   806.150024   \n",
       "2020-01-06  1350.000000  1396.500000  1350.000000  1394.209961  1394.209961   \n",
       "2021-01-06  1702.630005  1748.000000  1699.000000  1735.290039  1735.290039   \n",
       "2022-01-06  2749.949951  2793.719971  2735.270020  2751.020020  2751.020020   \n",
       "\n",
       "              Volume  \n",
       "Date                  \n",
       "2005-01-06  20852067  \n",
       "2006-01-06  35646914  \n",
       "2009-01-06  12898566  \n",
       "2010-01-06   7987226  \n",
       "2011-01-06   4131026  \n",
       "2012-01-06   5405987  \n",
       "2014-01-06   3551864  \n",
       "2015-01-06   2899940  \n",
       "2016-01-06   1947000  \n",
       "2017-01-06   1640200  \n",
       "2020-01-06   1732300  \n",
       "2021-01-06   2602100  \n",
       "2022-01-06   1452500  "
      ]
     },
     "execution_count": 20,
     "metadata": {},
     "output_type": "execute_result"
    }
   ],
   "source": [
    "# challenge -> fetch info for a particular date every year -> limitation of timedelta\n",
    "\n",
    "google.head()\n",
    "\n",
    "google[google.index.isin(pd.date_range(start='2005-1-6',end='2022-1-6',freq=pd.DateOffset(years=1)))]\n",
    "\n"
   ]
  },
  {
   "cell_type": "code",
   "execution_count": 21,
   "metadata": {},
   "outputs": [
    {
     "data": {
      "text/plain": [
       "<Axes: xlabel='Date'>"
      ]
     },
     "execution_count": 21,
     "metadata": {},
     "output_type": "execute_result"
    },
    {
     "data": {
      "image/png": "[encoded data removed]",
      "text/plain": [
       "<Figure size 640x480 with 1 Axes>"
      ]
     },
     "metadata": {},
     "output_type": "display_data"
    }
   ],
   "source": [
    "# viz a singleset\n",
    "google['Close'].plot()"
   ]
  },
  {
   "cell_type": "code",
   "execution_count": 22,
   "metadata": {},
   "outputs": [],
   "source": [
    "# viz all cils together \n"
   ]
  },
  {
   "cell_type": "code",
   "execution_count": 23,
   "metadata": {},
   "outputs": [
    {
     "data": {
      "text/plain": [
       "DatetimeIndex(['2004-08-19', '2004-08-20', '2004-08-23', '2004-08-24',\n",
       "               '2004-08-25', '2004-08-26', '2004-08-27', '2004-08-30',\n",
       "               '2004-08-31', '2004-09-01',\n",
       "               ...\n",
       "               '2022-05-09', '2022-05-10', '2022-05-11', '2022-05-12',\n",
       "               '2022-05-13', '2022-05-16', '2022-05-17', '2022-05-18',\n",
       "               '2022-05-19', '2022-05-20'],\n",
       "              dtype='datetime64[ns]', name='Date', length=4471, freq=None)"
      ]
     },
     "execution_count": 23,
     "metadata": {},
     "output_type": "execute_result"
    }
   ],
   "source": [
    "google.index"
   ]
  },
  {
   "cell_type": "code",
   "execution_count": 24,
   "metadata": {},
   "outputs": [
    {
     "name": "stderr",
     "output_type": "stream",
     "text": [
      "C:\\Users\\Engineer\\AppData\\Local\\Temp\\ipykernel_10108\\529360499.py:2: FutureWarning: 'H' is deprecated and will be removed in a future version, please use 'h' instead.\n",
      "  google.asfreq('6H', method='ffill')\n"
     ]
    },
    {
     "data": {
      "text/html": [
       "<div>\n",
       "<style scoped>\n",
       "    .dataframe tbody tr th:only-of-type {\n",
       "        vertical-align: middle;\n",
       "    }\n",
       "\n",
       "    .dataframe tbody tr th {\n",
       "        vertical-align: top;\n",
       "    }\n",
       "\n",
       "    .dataframe thead th {\n",
       "        text-align: right;\n",
       "    }\n",
       "</style>\n",
       "<table border=\"1\" class=\"dataframe\">\n",
       "  <thead>\n",
       "    <tr style=\"text-align: right;\">\n",
       "      <th></th>\n",
       "      <th>Open</th>\n",
       "      <th>High</th>\n",
       "      <th>Low</th>\n",
       "      <th>Close</th>\n",
       "      <th>Adj Close</th>\n",
       "      <th>Volume</th>\n",
       "    </tr>\n",
       "    <tr>\n",
       "      <th>Date</th>\n",
       "      <th></th>\n",
       "      <th></th>\n",
       "      <th></th>\n",
       "      <th></th>\n",
       "      <th></th>\n",
       "      <th></th>\n",
       "    </tr>\n",
       "  </thead>\n",
       "  <tbody>\n",
       "    <tr>\n",
       "      <th>2004-08-19 00:00:00</th>\n",
       "      <td>49.813290</td>\n",
       "      <td>51.835709</td>\n",
       "      <td>47.800831</td>\n",
       "      <td>49.982655</td>\n",
       "      <td>49.982655</td>\n",
       "      <td>44871361</td>\n",
       "    </tr>\n",
       "    <tr>\n",
       "      <th>2004-08-19 06:00:00</th>\n",
       "      <td>49.813290</td>\n",
       "      <td>51.835709</td>\n",
       "      <td>47.800831</td>\n",
       "      <td>49.982655</td>\n",
       "      <td>49.982655</td>\n",
       "      <td>44871361</td>\n",
       "    </tr>\n",
       "    <tr>\n",
       "      <th>2004-08-19 12:00:00</th>\n",
       "      <td>49.813290</td>\n",
       "      <td>51.835709</td>\n",
       "      <td>47.800831</td>\n",
       "      <td>49.982655</td>\n",
       "      <td>49.982655</td>\n",
       "      <td>44871361</td>\n",
       "    </tr>\n",
       "    <tr>\n",
       "      <th>2004-08-19 18:00:00</th>\n",
       "      <td>49.813290</td>\n",
       "      <td>51.835709</td>\n",
       "      <td>47.800831</td>\n",
       "      <td>49.982655</td>\n",
       "      <td>49.982655</td>\n",
       "      <td>44871361</td>\n",
       "    </tr>\n",
       "    <tr>\n",
       "      <th>2004-08-20 00:00:00</th>\n",
       "      <td>50.316402</td>\n",
       "      <td>54.336334</td>\n",
       "      <td>50.062355</td>\n",
       "      <td>53.952770</td>\n",
       "      <td>53.952770</td>\n",
       "      <td>22942874</td>\n",
       "    </tr>\n",
       "    <tr>\n",
       "      <th>...</th>\n",
       "      <td>...</td>\n",
       "      <td>...</td>\n",
       "      <td>...</td>\n",
       "      <td>...</td>\n",
       "      <td>...</td>\n",
       "      <td>...</td>\n",
       "    </tr>\n",
       "    <tr>\n",
       "      <th>2022-05-19 00:00:00</th>\n",
       "      <td>2236.820068</td>\n",
       "      <td>2271.750000</td>\n",
       "      <td>2209.360107</td>\n",
       "      <td>2214.909912</td>\n",
       "      <td>2214.909912</td>\n",
       "      <td>1459600</td>\n",
       "    </tr>\n",
       "    <tr>\n",
       "      <th>2022-05-19 06:00:00</th>\n",
       "      <td>2236.820068</td>\n",
       "      <td>2271.750000</td>\n",
       "      <td>2209.360107</td>\n",
       "      <td>2214.909912</td>\n",
       "      <td>2214.909912</td>\n",
       "      <td>1459600</td>\n",
       "    </tr>\n",
       "    <tr>\n",
       "      <th>2022-05-19 12:00:00</th>\n",
       "      <td>2236.820068</td>\n",
       "      <td>2271.750000</td>\n",
       "      <td>2209.360107</td>\n",
       "      <td>2214.909912</td>\n",
       "      <td>2214.909912</td>\n",
       "      <td>1459600</td>\n",
       "    </tr>\n",
       "    <tr>\n",
       "      <th>2022-05-19 18:00:00</th>\n",
       "      <td>2236.820068</td>\n",
       "      <td>2271.750000</td>\n",
       "      <td>2209.360107</td>\n",
       "      <td>2214.909912</td>\n",
       "      <td>2214.909912</td>\n",
       "      <td>1459600</td>\n",
       "    </tr>\n",
       "    <tr>\n",
       "      <th>2022-05-20 00:00:00</th>\n",
       "      <td>2241.709961</td>\n",
       "      <td>2251.000000</td>\n",
       "      <td>2127.459961</td>\n",
       "      <td>2186.260010</td>\n",
       "      <td>2186.260010</td>\n",
       "      <td>1878100</td>\n",
       "    </tr>\n",
       "  </tbody>\n",
       "</table>\n",
       "<p>25933 rows × 6 columns</p>\n",
       "</div>"
      ],
      "text/plain": [
       "                            Open         High          Low        Close  \\\n",
       "Date                                                                      \n",
       "2004-08-19 00:00:00    49.813290    51.835709    47.800831    49.982655   \n",
       "2004-08-19 06:00:00    49.813290    51.835709    47.800831    49.982655   \n",
       "2004-08-19 12:00:00    49.813290    51.835709    47.800831    49.982655   \n",
       "2004-08-19 18:00:00    49.813290    51.835709    47.800831    49.982655   \n",
       "2004-08-20 00:00:00    50.316402    54.336334    50.062355    53.952770   \n",
       "...                          ...          ...          ...          ...   \n",
       "2022-05-19 00:00:00  2236.820068  2271.750000  2209.360107  2214.909912   \n",
       "2022-05-19 06:00:00  2236.820068  2271.750000  2209.360107  2214.909912   \n",
       "2022-05-19 12:00:00  2236.820068  2271.750000  2209.360107  2214.909912   \n",
       "2022-05-19 18:00:00  2236.820068  2271.750000  2209.360107  2214.909912   \n",
       "2022-05-20 00:00:00  2241.709961  2251.000000  2127.459961  2186.260010   \n",
       "\n",
       "                       Adj Close    Volume  \n",
       "Date                                        \n",
       "2004-08-19 00:00:00    49.982655  44871361  \n",
       "2004-08-19 06:00:00    49.982655  44871361  \n",
       "2004-08-19 12:00:00    49.982655  44871361  \n",
       "2004-08-19 18:00:00    49.982655  44871361  \n",
       "2004-08-20 00:00:00    53.952770  22942874  \n",
       "...                          ...       ...  \n",
       "2022-05-19 00:00:00  2214.909912   1459600  \n",
       "2022-05-19 06:00:00  2214.909912   1459600  \n",
       "2022-05-19 12:00:00  2214.909912   1459600  \n",
       "2022-05-19 18:00:00  2214.909912   1459600  \n",
       "2022-05-20 00:00:00  2186.260010   1878100  \n",
       "\n",
       "[25933 rows x 6 columns]"
      ]
     },
     "execution_count": 24,
     "metadata": {},
     "output_type": "execute_result"
    }
   ],
   "source": [
    "# asfreq \n",
    "google.asfreq('6H', method='ffill')"
   ]
  },
  {
   "cell_type": "code",
   "execution_count": 25,
   "metadata": {},
   "outputs": [
    {
     "name": "stderr",
     "output_type": "stream",
     "text": [
      "C:\\Users\\Engineer\\AppData\\Local\\Temp\\ipykernel_10108\\3573321315.py:1: FutureWarning: 'Q' is deprecated and will be removed in a future version, please use 'QE' instead.\n",
      "  google['Close'].asfreq('Q').plot()\n"
     ]
    },
    {
     "data": {
      "text/plain": [
       "<Axes: xlabel='Date'>"
      ]
     },
     "execution_count": 25,
     "metadata": {},
     "output_type": "execute_result"
    },
    {
     "data": {
      "image/png": "[encoded data removed]",
      "text/plain": [
       "<Figure size 640x480 with 1 Axes>"
      ]
     },
     "metadata": {},
     "output_type": "display_data"
    }
   ],
   "source": [
    "google['Close'].asfreq('Q').plot()"
   ]
  },
  {
   "cell_type": "markdown",
   "metadata": {},
   "source": [
    "### Resampling\n",
    "\n",
    "Resampling involves changing the frequency of your time series observations.\n",
    "\n",
    "Two types of resampling are:\n",
    "\n",
    "**Upsampling**: Where you increase the frequency of the samples, such as from minutes to seconds.<br>\n",
    "**Downsampling**: Where you decrease the frequency of the samples, such as from days to months."
   ]
  },
  {
   "cell_type": "code",
   "execution_count": 26,
   "metadata": {},
   "outputs": [
    {
     "name": "stderr",
     "output_type": "stream",
     "text": [
      "C:\\Users\\Engineer\\AppData\\Local\\Temp\\ipykernel_10108\\3256021398.py:2: FutureWarning: 'H' is deprecated and will be removed in a future version, please use 'h' instead.\n",
      "  google['Close'].resample('6H').interpolate(method='linear').plot()\n"
     ]
    },
    {
     "data": {
      "text/plain": [
       "<Axes: xlabel='Date'>"
      ]
     },
     "execution_count": 26,
     "metadata": {},
     "output_type": "execute_result"
    },
    {
     "data": {
      "image/png": "[encoded data removed]",
      "text/plain": [
       "<Figure size 640x480 with 1 Axes>"
      ]
     },
     "metadata": {},
     "output_type": "display_data"
    }
   ],
   "source": [
    "# Downsamling\n",
    "google['Close'].resample('6H').interpolate(method='linear').plot()\n"
   ]
  },
  {
   "cell_type": "code",
   "execution_count": 27,
   "metadata": {},
   "outputs": [],
   "source": [
    "# Upsampling\n"
   ]
  },
  {
   "cell_type": "code",
   "execution_count": null,
   "metadata": {},
   "outputs": [],
   "source": []
  },
  {
   "cell_type": "code",
   "execution_count": null,
   "metadata": {},
   "outputs": [],
   "source": []
  },
  {
   "cell_type": "markdown",
   "metadata": {},
   "source": [
    "### Rolling Window(Smoothing)\n",
    "Time series data in original format can be quite volatile, especially on smaller aggregation levels. The concept of rolling, or moving averages is a useful technique for smoothing time series data. "
   ]
  },
  {
   "cell_type": "code",
   "execution_count": null,
   "metadata": {},
   "outputs": [],
   "source": []
  },
  {
   "cell_type": "code",
   "execution_count": null,
   "metadata": {},
   "outputs": [],
   "source": []
  },
  {
   "cell_type": "code",
   "execution_count": null,
   "metadata": {},
   "outputs": [],
   "source": []
  },
  {
   "cell_type": "code",
   "execution_count": null,
   "metadata": {},
   "outputs": [],
   "source": []
  },
  {
   "cell_type": "code",
   "execution_count": null,
   "metadata": {},
   "outputs": [],
   "source": []
  },
  {
   "cell_type": "markdown",
   "metadata": {},
   "source": [
    "### Shifting\n",
    "\n",
    "The shift() function is Pandas is used to, well, shift the entire series up or down by the desired number of periods."
   ]
  },
  {
   "cell_type": "code",
   "execution_count": null,
   "metadata": {},
   "outputs": [],
   "source": []
  },
  {
   "cell_type": "code",
   "execution_count": null,
   "metadata": {},
   "outputs": [],
   "source": []
  },
  {
   "cell_type": "code",
   "execution_count": null,
   "metadata": {},
   "outputs": [],
   "source": []
  }
 ],
 "metadata": {
  "kernelspec": {
   "display_name": "python_neda",
   "language": "python",
   "name": "python3"
  },
  "language_info": {
   "codemirror_mode": {
    "name": "ipython",
    "version": 3
   },
   "file_extension": ".py",
   "mimetype": "text/x-python",
   "name": "python",
   "nbconvert_exporter": "python",
   "pygments_lexer": "ipython3",
   "version": "3.12.4"
  }
 },
 "nbformat": 4,
 "nbformat_minor": 2
}
