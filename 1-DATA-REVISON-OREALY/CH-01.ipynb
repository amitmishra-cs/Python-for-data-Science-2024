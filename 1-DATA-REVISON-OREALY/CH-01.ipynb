{
 "cells": [
  {
   "cell_type": "markdown",
   "id": "fcc02af6",
   "metadata": {},
   "source": [
    "## DATA ANALYSISS OREALY BOOK REVISION"
   ]
  },
  {
   "cell_type": "code",
   "execution_count": 1,
   "id": "0524c030",
   "metadata": {},
   "outputs": [],
   "source": [
    "import numpy as np\n",
    "import pandas as pd"
   ]
  },
  {
   "cell_type": "code",
   "execution_count": 2,
   "id": "a54ceeec",
   "metadata": {},
   "outputs": [
    {
     "data": {
      "text/plain": [
       "[1.2461241755915735,\n",
       " 0.4212801619677641,\n",
       " -0.47472177035869895,\n",
       " 0.5200679327687504,\n",
       " -0.16120554378754767,\n",
       " -0.33785833118810377,\n",
       " -0.262259438944615]"
      ]
     },
     "execution_count": 2,
     "metadata": {},
     "output_type": "execute_result"
    }
   ],
   "source": [
    "data =[np.random.standard_normal() for i in range(7)]\n",
    "data"
   ]
  },
  {
   "cell_type": "code",
   "execution_count": 3,
   "id": "7a480d5e",
   "metadata": {},
   "outputs": [
    {
     "name": "stdout",
     "output_type": "stream",
     "text": [
      "[1.2461241755915735, 0.4212801619677641, -0.47472177035869895, 0.5200679327687504, -0.16120554378754767, -0.33785833118810377, -0.262259438944615]\n"
     ]
    }
   ],
   "source": [
    "print(data)"
   ]
  },
  {
   "cell_type": "code",
   "execution_count": 4,
   "id": "c89d9664",
   "metadata": {},
   "outputs": [
    {
     "data": {
      "text/plain": [
       "2"
      ]
     },
     "execution_count": 4,
     "metadata": {},
     "output_type": "execute_result"
    }
   ],
   "source": [
    "b = [1, 2, 3]\n",
    "c = [1, 2, 3]\n",
    "b.append(5)\n",
    "b.insert(2,7)\n",
    "b.reverse()\n",
    "b.sort()\n",
    "b.index(3)\n",
    "# print(b)\n",
    "\n",
    "\n",
    "\n",
    "# append()  count()   insert()  reverse()\n",
    "# clear()   extend()  pop()     sort()\n",
    "# copy()    index()   remove()"
   ]
  },
  {
   "cell_type": "code",
   "execution_count": 5,
   "id": "75ba7114",
   "metadata": {},
   "outputs": [
    {
     "data": {
      "text/plain": [
       "datetime.datetime(2025, 7, 25, 10, 44, 6, 965909)"
      ]
     },
     "execution_count": 5,
     "metadata": {},
     "output_type": "execute_result"
    }
   ],
   "source": [
    "import datetime\n",
    "datetime.datetime.now()"
   ]
  },
  {
   "cell_type": "code",
   "execution_count": 6,
   "id": "741e848d",
   "metadata": {},
   "outputs": [
    {
     "data": {
      "text/plain": [
       "3"
      ]
     },
     "execution_count": 6,
     "metadata": {},
     "output_type": "execute_result"
    }
   ],
   "source": [
    "b = [1, 2, 3] \n",
    "type(b)\n",
    "b.__len__()"
   ]
  },
  {
   "cell_type": "code",
   "execution_count": 7,
   "id": "1d7744ca",
   "metadata": {},
   "outputs": [
    {
     "data": {
      "text/plain": [
       "137"
      ]
     },
     "execution_count": 7,
     "metadata": {},
     "output_type": "execute_result"
    }
   ],
   "source": [
    "a=2; b=32; c=33; d=70; \n",
    "a+b+c+d"
   ]
  },
  {
   "cell_type": "code",
   "execution_count": 7,
   "id": "0ed18169",
   "metadata": {},
   "outputs": [],
   "source": [
    "def append_elements(some_list, element):\n",
    "    some_list.append(element)"
   ]
  },
  {
   "cell_type": "code",
   "execution_count": 6,
   "id": "9a54f6be",
   "metadata": {},
   "outputs": [
    {
     "data": {
      "text/plain": [
       "[1, 2, 3, 4, 5]"
      ]
     },
     "execution_count": 6,
     "metadata": {},
     "output_type": "execute_result"
    }
   ],
   "source": [
    "data =[1,2,3,4]\n",
    "append_elements(data, 5)\n",
    "data"
   ]
  },
  {
   "cell_type": "code",
   "execution_count": 11,
   "id": "a041bb2f",
   "metadata": {},
   "outputs": [
    {
     "data": {
      "text/plain": [
       "2.25"
      ]
     },
     "execution_count": 11,
     "metadata": {},
     "output_type": "execute_result"
    }
   ],
   "source": [
    "\"5\" + str(5)      # Output: '55'\n",
    "a =4.5\n",
    "b =2\n",
    "c=a/b\n",
    "c\n"
   ]
  },
  {
   "cell_type": "code",
   "execution_count": 14,
   "metadata": {},
   "outputs": [],
   "source": [
    "# some_module.py\n",
    "PI = 3.14159\n",
    "def f(x):\n",
    "  \n",
    "  return x + 2\n",
    "def g(a, b):\n",
    "   \n",
    "   return a + b\n"
   ]
  },
  {
   "cell_type": "code",
   "execution_count": 20,
   "id": "62b72e3e",
   "metadata": {},
   "outputs": [],
   "source": [
    "a = None\n",
    "b = 5\n",
    "\n",
    "def add_and_maybe_multiply(a, b, c=None):\n",
    " \n",
    "    result = a + b\n",
    "    if c is not None:\n",
    "      result = result * c\n",
    "    return result\n"
   ]
  },
  {
   "cell_type": "code",
   "execution_count": 25,
   "id": "49c25d2e",
   "metadata": {},
   "outputs": [
    {
     "data": {
      "text/plain": [
       "datetime.time(20, 30, 21)"
      ]
     },
     "execution_count": 25,
     "metadata": {},
     "output_type": "execute_result"
    }
   ],
   "source": [
    "\n",
    "from datetime import datetime, date, time\n",
    "dt = datetime(2011, 10, 29, 20, 30, 21)\n",
    "dt.date()\n",
    "dt.time()"
   ]
  },
  {
   "cell_type": "code",
   "execution_count": null,
   "id": "6cfe0b4a",
   "metadata": {},
   "outputs": [],
   "source": []
  },
  {
   "cell_type": "code",
   "execution_count": null,
   "id": "d81f5b65",
   "metadata": {},
   "outputs": [],
   "source": []
  },
  {
   "cell_type": "code",
   "execution_count": null,
   "id": "862c42b8",
   "metadata": {},
   "outputs": [],
   "source": []
  },
  {
   "cell_type": "code",
   "execution_count": null,
   "id": "90530840",
   "metadata": {},
   "outputs": [],
   "source": []
  },
  {
   "cell_type": "code",
   "execution_count": null,
   "id": "02f2d0b4",
   "metadata": {},
   "outputs": [],
   "source": []
  }
 ],
 "metadata": {
  "kernelspec": {
   "display_name": "Python (new_mldl)",
   "language": "python",
   "name": "new_mldl"
  },
  "language_info": {
   "codemirror_mode": {
    "name": "ipython",
    "version": 3
   },
   "file_extension": ".py",
   "mimetype": "text/x-python",
   "name": "python",
   "nbconvert_exporter": "python",
   "pygments_lexer": "ipython3",
   "version": "3.12.2"
  }
 },
 "nbformat": 4,
 "nbformat_minor": 5
}
