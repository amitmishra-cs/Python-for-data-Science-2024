{
 "cells": [
  {
   "cell_type": "markdown",
   "id": "fcc02af6",
   "metadata": {},
   "source": [
    "## DATA ANALYSISS OREALY BOOK REVISION"
   ]
  },
  {
   "cell_type": "code",
   "execution_count": 1,
   "id": "0524c030",
   "metadata": {},
   "outputs": [],
   "source": [
    "import numpy as np\n",
    "import pandas as pd"
   ]
  },
  {
   "cell_type": "code",
   "execution_count": 2,
   "id": "a54ceeec",
   "metadata": {},
   "outputs": [
    {
     "data": {
      "text/plain": [
       "[-0.8880680378771418,\n",
       " 1.2178460906256026,\n",
       " 0.5408261674797511,\n",
       " 0.32547844241873564,\n",
       " -0.7118896025443611,\n",
       " -0.7323951840154291,\n",
       " -0.3429281897398118]"
      ]
     },
     "execution_count": 2,
     "metadata": {},
     "output_type": "execute_result"
    }
   ],
   "source": [
    "data =[np.random.standard_normal() for i in range(7)]\n",
    "data"
   ]
  },
  {
   "cell_type": "code",
   "execution_count": 3,
   "id": "7a480d5e",
   "metadata": {},
   "outputs": [
    {
     "name": "stdout",
     "output_type": "stream",
     "text": [
      "[-0.8880680378771418, 1.2178460906256026, 0.5408261674797511, 0.32547844241873564, -0.7118896025443611, -0.7323951840154291, -0.3429281897398118]\n"
     ]
    }
   ],
   "source": [
    "print(data)"
   ]
  },
  {
   "cell_type": "code",
   "execution_count": 4,
   "id": "c89d9664",
   "metadata": {},
   "outputs": [
    {
     "data": {
      "text/plain": [
       "2"
      ]
     },
     "execution_count": 4,
     "metadata": {},
     "output_type": "execute_result"
    }
   ],
   "source": [
    "b = [1, 2, 3]\n",
    "c = [1, 2, 3]\n",
    "b.append(5)\n",
    "b.insert(2,7)\n",
    "b.reverse()\n",
    "b.sort()\n",
    "b.index(3)\n",
    "# print(b)\n",
    "\n",
    "\n",
    "\n",
    "# append()  count()   insert()  reverse()\n",
    "# clear()   extend()  pop()     sort()\n",
    "# copy()    index()   remove()"
   ]
  },
  {
   "cell_type": "code",
   "execution_count": 5,
   "id": "75ba7114",
   "metadata": {},
   "outputs": [
    {
     "data": {
      "text/plain": [
       "datetime.datetime(2025, 8, 13, 8, 25, 20, 873381)"
      ]
     },
     "execution_count": 5,
     "metadata": {},
     "output_type": "execute_result"
    }
   ],
   "source": [
    "import datetime\n",
    "datetime.datetime.now()"
   ]
  },
  {
   "cell_type": "code",
   "execution_count": 6,
   "id": "741e848d",
   "metadata": {},
   "outputs": [
    {
     "data": {
      "text/plain": [
       "3"
      ]
     },
     "execution_count": 6,
     "metadata": {},
     "output_type": "execute_result"
    }
   ],
   "source": [
    "b = [1, 2, 3] \n",
    "type(b)\n",
    "b.__len__()"
   ]
  },
  {
   "cell_type": "code",
   "execution_count": 7,
   "id": "1d7744ca",
   "metadata": {},
   "outputs": [
    {
     "data": {
      "text/plain": [
       "137"
      ]
     },
     "execution_count": 7,
     "metadata": {},
     "output_type": "execute_result"
    }
   ],
   "source": [
    "a=2; b=32; c=33; d=70; \n",
    "a+b+c+d"
   ]
  },
  {
   "cell_type": "code",
   "execution_count": 8,
   "id": "0ed18169",
   "metadata": {},
   "outputs": [],
   "source": [
    "def append_elements(some_list, element):\n",
    "    some_list.append(element)"
   ]
  },
  {
   "cell_type": "code",
   "execution_count": 9,
   "id": "9a54f6be",
   "metadata": {},
   "outputs": [
    {
     "data": {
      "text/plain": [
       "[1, 2, 3, 4, 5]"
      ]
     },
     "execution_count": 9,
     "metadata": {},
     "output_type": "execute_result"
    }
   ],
   "source": [
    "data =[1,2,3,4]\n",
    "append_elements(data, 5)\n",
    "data"
   ]
  },
  {
   "cell_type": "code",
   "execution_count": 10,
   "id": "a041bb2f",
   "metadata": {},
   "outputs": [
    {
     "data": {
      "text/plain": [
       "2.25"
      ]
     },
     "execution_count": 10,
     "metadata": {},
     "output_type": "execute_result"
    }
   ],
   "source": [
    "\"5\" + str(5)      # Output: '55'\n",
    "a =4.5\n",
    "b =2\n",
    "c=a/b\n",
    "c\n"
   ]
  },
  {
   "cell_type": "code",
   "execution_count": 11,
   "metadata": {},
   "outputs": [],
   "source": [
    "# some_module.py\n",
    "PI = 3.14159\n",
    "def f(x):\n",
    "  \n",
    "  return x + 2\n",
    "def g(a, b):\n",
    "   \n",
    "   return a + b\n"
   ]
  },
  {
   "cell_type": "code",
   "execution_count": 12,
   "id": "62b72e3e",
   "metadata": {},
   "outputs": [],
   "source": [
    "a = None\n",
    "b = 5\n",
    "\n",
    "def add_and_maybe_multiply(a, b, c=None):\n",
    " \n",
    "    result = a + b\n",
    "    if c is not None:\n",
    "      result = result * c\n",
    "    return result\n"
   ]
  },
  {
   "cell_type": "code",
   "execution_count": 13,
   "id": "49c25d2e",
   "metadata": {},
   "outputs": [
    {
     "data": {
      "text/plain": [
       "datetime.time(20, 30, 21)"
      ]
     },
     "execution_count": 13,
     "metadata": {},
     "output_type": "execute_result"
    }
   ],
   "source": [
    "\n",
    "from datetime import datetime, date, time\n",
    "dt = datetime(2011, 10, 29, 20, 30, 21)\n",
    "dt.date()\n",
    "dt.time()\n"
   ]
  },
  {
   "cell_type": "code",
   "execution_count": 14,
   "id": "6cfe0b4a",
   "metadata": {},
   "outputs": [
    {
     "data": {
      "text/plain": [
       "'2011-10-29 20:30'"
      ]
     },
     "execution_count": 14,
     "metadata": {},
     "output_type": "execute_result"
    }
   ],
   "source": [
    "dt.strftime(\"%Y-%m-%d %H:%M\")"
   ]
  },
  {
   "cell_type": "code",
   "execution_count": 15,
   "id": "d81f5b65",
   "metadata": {},
   "outputs": [
    {
     "data": {
      "text/plain": [
       "datetime.datetime(2025, 7, 26, 0, 0)"
      ]
     },
     "execution_count": 15,
     "metadata": {},
     "output_type": "execute_result"
    }
   ],
   "source": [
    "datetime.strptime(\"20250726\", \"%Y%m%d\")\n"
   ]
  },
  {
   "cell_type": "code",
   "execution_count": 16,
   "id": "862c42b8",
   "metadata": {},
   "outputs": [
    {
     "name": "stdout",
     "output_type": "stream",
     "text": [
      "negative number\n"
     ]
    }
   ],
   "source": [
    "X =-5\n",
    "if X< 0:\n",
    "    print(\"negative number\" )"
   ]
  },
  {
   "cell_type": "code",
   "execution_count": 17,
   "id": "90530840",
   "metadata": {},
   "outputs": [
    {
     "name": "stdout",
     "output_type": "stream",
     "text": [
      "equal to number \n"
     ]
    }
   ],
   "source": [
    "x=0\n",
    "if x<0:\n",
    "    print(\"negative number\")\n",
    "elif x==0:\n",
    "    print(\"equal to number \")\n",
    "elif 0 > x and x < 5:\n",
    "    print(\"Zero se bata but five se chota\")\n",
    "else:\n",
    "    print(\"positive and larger eqal to \")          "
   ]
  },
  {
   "cell_type": "code",
   "execution_count": 18,
   "id": "02f2d0b4",
   "metadata": {},
   "outputs": [
    {
     "name": "stdout",
     "output_type": "stream",
     "text": [
      "not made it\n"
     ]
    }
   ],
   "source": [
    "a =5; b = 7;  c = 8;  d = 4;\n",
    "if a < b and c< d:\n",
    "    print(\"made it\")\n",
    "else:\n",
    "    print(\"not made it\")    "
   ]
  },
  {
   "cell_type": "code",
   "execution_count": 19,
   "id": "f1e19a1e",
   "metadata": {},
   "outputs": [
    {
     "name": "stdout",
     "output_type": "stream",
     "text": [
      "5\n"
     ]
    }
   ],
   "source": [
    "list =[1,2,0,4,6,5,2,1]\n",
    "total_until_5=0\n",
    "for value in list:\n",
    "    if value == 5:\n",
    "        break\n",
    "    total_until_5 +=value  \n",
    "print(value)  "
   ]
  },
  {
   "cell_type": "code",
   "execution_count": 20,
   "id": "9c40a0ac",
   "metadata": {},
   "outputs": [
    {
     "name": "stdout",
     "output_type": "stream",
     "text": [
      "(0, 0)\n",
      "(1, 0)\n",
      "(1, 1)\n",
      "(2, 0)\n",
      "(2, 1)\n",
      "(2, 2)\n",
      "(3, 0)\n",
      "(3, 1)\n",
      "(3, 2)\n",
      "(3, 3)\n"
     ]
    }
   ],
   "source": [
    "for i in range(4):\n",
    "    for j in range(4):\n",
    "        if j > i:\n",
    "            break\n",
    "        print((i,j))"
   ]
  },
  {
   "cell_type": "code",
   "execution_count": 21,
   "id": "f957a70a",
   "metadata": {},
   "outputs": [
    {
     "name": "stdout",
     "output_type": "stream",
     "text": [
      "128\n",
      "64\n",
      "32\n",
      "16\n",
      "8\n",
      "4\n"
     ]
    }
   ],
   "source": [
    "x = 256\n",
    "total = 0\n",
    "while x > 0:\n",
    " if total > 500:\n",
    "    break\n",
    " total += x\n",
    " x = x // 2\n",
    " print(x) \n"
   ]
  },
  {
   "cell_type": "code",
   "execution_count": 22,
   "id": "c7ab5140",
   "metadata": {},
   "outputs": [
    {
     "name": "stdout",
     "output_type": "stream",
     "text": [
      "positive!\n"
     ]
    }
   ],
   "source": [
    "if x < 0:\n",
    " print(\"negative!\")\n",
    "elif x == 0:\n",
    " # TODO: put something smart here\n",
    " pass\n",
    "else:\n",
    " print(\"positive!\")"
   ]
  },
  {
   "cell_type": "code",
   "execution_count": 23,
   "id": "5e38aae9",
   "metadata": {},
   "outputs": [],
   "source": [
    "del list"
   ]
  },
  {
   "cell_type": "code",
   "execution_count": 24,
   "id": "cc5b5633",
   "metadata": {},
   "outputs": [
    {
     "data": {
      "text/plain": [
       "[0, 1, 2, 3, 4, 5, 6, 7, 8, 9]"
      ]
     },
     "execution_count": 24,
     "metadata": {},
     "output_type": "execute_result"
    }
   ],
   "source": [
    "list(range(10))"
   ]
  },
  {
   "cell_type": "code",
   "execution_count": 25,
   "id": "82ef4cdc",
   "metadata": {},
   "outputs": [
    {
     "data": {
      "text/plain": [
       "[0, 2, 4, 6, 8, 10, 12, 14, 16, 18]"
      ]
     },
     "execution_count": 25,
     "metadata": {},
     "output_type": "execute_result"
    }
   ],
   "source": [
    "list(range(0,20,2))"
   ]
  },
  {
   "cell_type": "code",
   "execution_count": 26,
   "id": "c870e7f4",
   "metadata": {},
   "outputs": [
    {
     "data": {
      "text/plain": [
       "[0, 3, 6, 9, 12, 15, 18]"
      ]
     },
     "execution_count": 26,
     "metadata": {},
     "output_type": "execute_result"
    }
   ],
   "source": [
    "list(range(0,20,3))"
   ]
  },
  {
   "cell_type": "code",
   "execution_count": 27,
   "id": "675db46c",
   "metadata": {},
   "outputs": [
    {
     "name": "stdout",
     "output_type": "stream",
     "text": [
      "2333316668\n"
     ]
    }
   ],
   "source": [
    "total =0\n",
    "\n",
    "for i in range(100_000):\n",
    "    if i % 3 ==0 or i % 5==0:\n",
    "        total +=i\n",
    "print(total)"
   ]
  },
  {
   "cell_type": "code",
   "execution_count": 28,
   "id": "74f0031a",
   "metadata": {},
   "outputs": [
    {
     "name": "stdout",
     "output_type": "stream",
     "text": [
      "2333316668\n"
     ]
    }
   ],
   "source": [
    "total =0\n",
    "for i in range(100_000):\n",
    "   if i % 3 == 0 or i % 5 == 0: \n",
    "     total += i\n",
    "print(total)"
   ]
  },
  {
   "cell_type": "code",
   "execution_count": 29,
   "id": "effcccf7",
   "metadata": {},
   "outputs": [
    {
     "data": {
      "text/plain": [
       "(4, 5, 6)"
      ]
     },
     "execution_count": 29,
     "metadata": {},
     "output_type": "execute_result"
    }
   ],
   "source": [
    "tup = (4, 5, 6)\n",
    "tup"
   ]
  },
  {
   "cell_type": "code",
   "execution_count": 30,
   "id": "91fd989a",
   "metadata": {},
   "outputs": [
    {
     "data": {
      "text/plain": [
       "('s', 't', 'r', 'i', 'n', 'g')"
      ]
     },
     "execution_count": 30,
     "metadata": {},
     "output_type": "execute_result"
    }
   ],
   "source": [
    "tup = tuple('string')\n",
    "tup"
   ]
  },
  {
   "cell_type": "code",
   "execution_count": 31,
   "id": "7095577d",
   "metadata": {},
   "outputs": [
    {
     "data": {
      "text/plain": [
       "(4, 5, 67)"
      ]
     },
     "execution_count": 31,
     "metadata": {},
     "output_type": "execute_result"
    }
   ],
   "source": [
    "tup = tuple([4,5,67])\n",
    "tup"
   ]
  },
  {
   "cell_type": "code",
   "execution_count": 32,
   "id": "6e82578e",
   "metadata": {},
   "outputs": [
    {
     "data": {
      "text/plain": [
       "[4, None, 'foo', 7, 8, (2, 3)]"
      ]
     },
     "execution_count": 32,
     "metadata": {},
     "output_type": "execute_result"
    }
   ],
   "source": [
    "[4, None, \"foo\"] + [7, 8, (2, 3)]"
   ]
  },
  {
   "cell_type": "markdown",
   "id": "ebdeb8ef",
   "metadata": {},
   "source": [
    "## Function"
   ]
  },
  {
   "cell_type": "code",
   "execution_count": 33,
   "id": "aa6ee751",
   "metadata": {},
   "outputs": [],
   "source": [
    "def my_function(x, y):\n",
    "    return x + y"
   ]
  },
  {
   "cell_type": "code",
   "execution_count": 34,
   "id": "5b0cb3d8",
   "metadata": {},
   "outputs": [
    {
     "data": {
      "text/plain": [
       "79"
      ]
     },
     "execution_count": 34,
     "metadata": {},
     "output_type": "execute_result"
    }
   ],
   "source": [
    "my_function(12,67)"
   ]
  },
  {
   "cell_type": "code",
   "execution_count": 36,
   "id": "d1e8b105",
   "metadata": {},
   "outputs": [],
   "source": [
    "def my_function2(x, y, z=1.4):\n",
    "    if z> 1:\n",
    "        return z*(x+y)\n",
    "    else:\n",
    "        return z/(x+y)\n",
    "    "
   ]
  },
  {
   "cell_type": "code",
   "execution_count": 37,
   "id": "67a14e31",
   "metadata": {},
   "outputs": [
    {
     "data": {
      "text/plain": [
       "7"
      ]
     },
     "execution_count": 37,
     "metadata": {},
     "output_type": "execute_result"
    }
   ],
   "source": [
    "my_function(2,5)"
   ]
  },
  {
   "cell_type": "code",
   "execution_count": 44,
   "id": "878ecf2a",
   "metadata": {},
   "outputs": [],
   "source": [
    "def func():\n",
    " a = []\n",
    " for i in range(5):\n",
    "   a.append(i)\n"
   ]
  },
  {
   "cell_type": "code",
   "execution_count": null,
   "metadata": {},
   "outputs": [
    {
     "data": {
      "text/plain": [
       "5"
      ]
     },
     "execution_count": 45,
     "metadata": {},
     "output_type": "execute_result"
    }
   ],
   "source": []
  },
  {
   "cell_type": "code",
   "execution_count": 50,
   "metadata": {},
   "outputs": [],
   "source": [
    "states = [\" Alabama \", \"Georgia!\", \"Georgia\", \"georgia\", \"FlOrIda\",\n",
    " \"south carolina##\", \"West virginia?\"]"
   ]
  },
  {
   "cell_type": "code",
   "execution_count": null,
   "id": "d46c0563",
   "metadata": {},
   "outputs": [],
   "source": [
    "import re\n",
    "def clean_strings(strings):\n",
    " result = []\n",
    " for value in strings:\n",
    "   value = value.strip()\n",
    "   value = re.sub(\"[!#?]\", \"\", value)\n",
    "   value = value.title()\n",
    "   result.append(value)\n",
    "   return result"
   ]
  },
  {
   "cell_type": "code",
   "execution_count": 52,
   "id": "d16dc069",
   "metadata": {},
   "outputs": [
    {
     "data": {
      "text/plain": [
       "['Alabama',\n",
       " 'Georgia',\n",
       " 'Georgia',\n",
       " 'Georgia',\n",
       " 'Florida',\n",
       " 'South Carolina',\n",
       " 'West Virginia']"
      ]
     },
     "execution_count": 52,
     "metadata": {},
     "output_type": "execute_result"
    }
   ],
   "source": [
    "clean_strings(states)"
   ]
  },
  {
   "cell_type": "code",
   "execution_count": 53,
   "id": "426ec60e",
   "metadata": {},
   "outputs": [],
   "source": [
    "def remove_punctuation(value):\n",
    "    return re.sub(\"[!#?]\", \"\", value)\n"
   ]
  },
  {
   "cell_type": "code",
   "execution_count": 54,
   "metadata": {},
   "outputs": [
    {
     "name": "stdout",
     "output_type": "stream",
     "text": [
      " Alabama \n",
      "Georgia\n",
      "Georgia\n",
      "georgia\n",
      "FlOrIda\n",
      "south carolina\n",
      "West virginia\n"
     ]
    }
   ],
   "source": [
    "for x in map(remove_punctuation, states):\n",
    "     print(x)\n"
   ]
  },
  {
   "cell_type": "code",
   "execution_count": 55,
   "id": "1f0f2656",
   "metadata": {},
   "outputs": [],
   "source": [
    "def short_function(x):\n",
    "    return x * 2"
   ]
  },
  {
   "cell_type": "code",
   "execution_count": 56,
   "id": "ae07d7d0",
   "metadata": {},
   "outputs": [
    {
     "data": {
      "text/plain": [
       "10"
      ]
     },
     "execution_count": 56,
     "metadata": {},
     "output_type": "execute_result"
    }
   ],
   "source": [
    "short_function(5)"
   ]
  },
  {
   "cell_type": "code",
   "execution_count": 60,
   "id": "b69ffd2b",
   "metadata": {},
   "outputs": [],
   "source": [
    "equiv_anon = lambda x: x * 2\n"
   ]
  },
  {
   "cell_type": "code",
   "execution_count": 62,
   "id": "e7cd1091",
   "metadata": {},
   "outputs": [
    {
     "data": {
      "text/plain": [
       "6"
      ]
     },
     "execution_count": 62,
     "metadata": {},
     "output_type": "execute_result"
    }
   ],
   "source": [
    "equiv_anon(3)"
   ]
  },
  {
   "cell_type": "code",
   "execution_count": 64,
   "id": "ef505d1c",
   "metadata": {},
   "outputs": [],
   "source": [
    "gen = (x ** 2 for x in range(100))"
   ]
  },
  {
   "cell_type": "code",
   "execution_count": 67,
   "metadata": {},
   "outputs": [
    {
     "data": {
      "text/plain": [
       "<generator object <genexpr> at 0x000002C97BEA8BA0>"
      ]
     },
     "execution_count": 67,
     "metadata": {},
     "output_type": "execute_result"
    }
   ],
   "source": [
    "gen"
   ]
  },
  {
   "cell_type": "code",
   "execution_count": 68,
   "id": "cbadc493",
   "metadata": {},
   "outputs": [],
   "source": [
    "def make_gen():\n",
    "    for x in range(100):\n",
    "        yield x ** 2\n",
    "        make_gen\n"
   ]
  },
  {
   "cell_type": "code",
   "execution_count": null,
   "id": "01002cb0",
   "metadata": {},
   "outputs": [],
   "source": []
  },
  {
   "cell_type": "code",
   "execution_count": null,
   "id": "9e33c9a8",
   "metadata": {},
   "outputs": [],
   "source": []
  },
  {
   "cell_type": "code",
   "execution_count": null,
   "id": "4c16ffa8",
   "metadata": {},
   "outputs": [],
   "source": []
  },
  {
   "cell_type": "code",
   "execution_count": null,
   "metadata": {},
   "outputs": [],
   "source": []
  },
  {
   "cell_type": "code",
   "execution_count": null,
   "id": "1d7fbda4",
   "metadata": {},
   "outputs": [],
   "source": []
  }
 ],
 "metadata": {
  "kernelspec": {
   "display_name": "Python (new_mldl)",
   "language": "python",
   "name": "new_mldl"
  },
  "language_info": {
   "codemirror_mode": {
    "name": "ipython",
    "version": 3
   },
   "file_extension": ".py",
   "mimetype": "text/x-python",
   "name": "python",
   "nbconvert_exporter": "python",
   "pygments_lexer": "ipython3",
   "version": "3.12.2"
  }
 },
 "nbformat": 4,
 "nbformat_minor": 5
}
