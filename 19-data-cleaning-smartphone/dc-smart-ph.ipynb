{
 "cells": [
  {
   "cell_type": "code",
   "execution_count": 1,
   "metadata": {},
   "outputs": [],
   "source": [
    "import numpy as np\n",
    "import pandas as pd"
   ]
  },
  {
   "cell_type": "code",
   "execution_count": 2,
   "metadata": {},
   "outputs": [],
   "source": [
    "df =pd.read_csv('smartphones.csv')"
   ]
  },
  {
   "cell_type": "code",
   "execution_count": 7,
   "metadata": {},
   "outputs": [
    {
     "data": {
      "text/plain": [
       "model          0\n",
       "price          0\n",
       "rating       141\n",
       "sim            0\n",
       "processor      0\n",
       "ram            0\n",
       "battery        0\n",
       "display        0\n",
       "camera         1\n",
       "card           7\n",
       "os            17\n",
       "dtype: int64"
      ]
     },
     "execution_count": 7,
     "metadata": {},
     "output_type": "execute_result"
    }
   ],
   "source": [
    "df.isnull().sum()"
   ]
  },
  {
   "cell_type": "code",
   "execution_count": 22,
   "metadata": {},
   "outputs": [
    {
     "name": "stdout",
     "output_type": "stream",
     "text": [
      "<class 'pandas.core.frame.DataFrame'>\n",
      "RangeIndex: 1020 entries, 0 to 1019\n",
      "Data columns (total 11 columns):\n",
      " #   Column     Non-Null Count  Dtype  \n",
      "---  ------     --------------  -----  \n",
      " 0   model      1020 non-null   object \n",
      " 1   price      1020 non-null   object \n",
      " 2   rating     879 non-null    float64\n",
      " 3   sim        1020 non-null   object \n",
      " 4   processor  1020 non-null   object \n",
      " 5   ram        1020 non-null   object \n",
      " 6   battery    1020 non-null   object \n",
      " 7   display    1020 non-null   object \n",
      " 8   camera     1019 non-null   object \n",
      " 9   card       1013 non-null   object \n",
      " 10  os         1003 non-null   object \n",
      "dtypes: float64(1), object(10)\n",
      "memory usage: 87.8+ KB\n"
     ]
    }
   ],
   "source": [
    "df.info()"
   ]
  },
  {
   "cell_type": "code",
   "execution_count": 9,
   "metadata": {},
   "outputs": [
    {
     "data": {
      "text/html": [
       "<div>\n",
       "<style scoped>\n",
       "    .dataframe tbody tr th:only-of-type {\n",
       "        vertical-align: middle;\n",
       "    }\n",
       "\n",
       "    .dataframe tbody tr th {\n",
       "        vertical-align: top;\n",
       "    }\n",
       "\n",
       "    .dataframe thead th {\n",
       "        text-align: right;\n",
       "    }\n",
       "</style>\n",
       "<table border=\"1\" class=\"dataframe\">\n",
       "  <thead>\n",
       "    <tr style=\"text-align: right;\">\n",
       "      <th></th>\n",
       "      <th>model</th>\n",
       "      <th>price</th>\n",
       "      <th>rating</th>\n",
       "      <th>sim</th>\n",
       "      <th>processor</th>\n",
       "      <th>ram</th>\n",
       "      <th>battery</th>\n",
       "      <th>display</th>\n",
       "      <th>camera</th>\n",
       "      <th>card</th>\n",
       "      <th>os</th>\n",
       "    </tr>\n",
       "  </thead>\n",
       "  <tbody>\n",
       "    <tr>\n",
       "      <th>668</th>\n",
       "      <td>Xiaomi Redmi Note 11E 5G</td>\n",
       "      <td>₹13,990</td>\n",
       "      <td>69.0</td>\n",
       "      <td>Dual Sim, 3G, 4G, 5G, VoLTE, Wi-Fi, IR Blaster</td>\n",
       "      <td>Dimensity 700 5G, Octa Core, 2.2 GHz Processor</td>\n",
       "      <td>4 GB RAM, 128 GB inbuilt</td>\n",
       "      <td>5000 mAh Battery with 18W Fast Charging</td>\n",
       "      <td>6.58 inches, 1080 x 2408 px, 90 Hz Display wit...</td>\n",
       "      <td>50 MP + 2 MP Dual Rear &amp; 5 MP Front Camera</td>\n",
       "      <td>Memory Card Not Supported</td>\n",
       "      <td>Android v11</td>\n",
       "    </tr>\n",
       "  </tbody>\n",
       "</table>\n",
       "</div>"
      ],
      "text/plain": [
       "                        model    price  rating  \\\n",
       "668  Xiaomi Redmi Note 11E 5G  ₹13,990    69.0   \n",
       "\n",
       "                                                sim  \\\n",
       "668  Dual Sim, 3G, 4G, 5G, VoLTE, Wi-Fi, IR Blaster   \n",
       "\n",
       "                                          processor                       ram  \\\n",
       "668  Dimensity 700 5G, Octa Core, 2.2 GHz Processor  4 GB RAM, 128 GB inbuilt   \n",
       "\n",
       "                                     battery  \\\n",
       "668  5000 mAh Battery with 18W Fast Charging   \n",
       "\n",
       "                                               display  \\\n",
       "668  6.58 inches, 1080 x 2408 px, 90 Hz Display wit...   \n",
       "\n",
       "                                         camera                       card  \\\n",
       "668  50 MP + 2 MP Dual Rear & 5 MP Front Camera  Memory Card Not Supported   \n",
       "\n",
       "              os  \n",
       "668  Android v11  "
      ]
     },
     "execution_count": 9,
     "metadata": {},
     "output_type": "execute_result"
    }
   ],
   "source": [
    "df.sample()"
   ]
  },
  {
   "cell_type": "code",
   "execution_count": 24,
   "metadata": {},
   "outputs": [
    {
     "data": {
      "text/html": [
       "<div>\n",
       "<style scoped>\n",
       "    .dataframe tbody tr th:only-of-type {\n",
       "        vertical-align: middle;\n",
       "    }\n",
       "\n",
       "    .dataframe tbody tr th {\n",
       "        vertical-align: top;\n",
       "    }\n",
       "\n",
       "    .dataframe thead th {\n",
       "        text-align: right;\n",
       "    }\n",
       "</style>\n",
       "<table border=\"1\" class=\"dataframe\">\n",
       "  <thead>\n",
       "    <tr style=\"text-align: right;\">\n",
       "      <th></th>\n",
       "      <th>rating</th>\n",
       "    </tr>\n",
       "  </thead>\n",
       "  <tbody>\n",
       "    <tr>\n",
       "      <th>count</th>\n",
       "      <td>879.000000</td>\n",
       "    </tr>\n",
       "    <tr>\n",
       "      <th>mean</th>\n",
       "      <td>78.258248</td>\n",
       "    </tr>\n",
       "    <tr>\n",
       "      <th>std</th>\n",
       "      <td>7.402854</td>\n",
       "    </tr>\n",
       "    <tr>\n",
       "      <th>min</th>\n",
       "      <td>60.000000</td>\n",
       "    </tr>\n",
       "    <tr>\n",
       "      <th>25%</th>\n",
       "      <td>74.000000</td>\n",
       "    </tr>\n",
       "    <tr>\n",
       "      <th>50%</th>\n",
       "      <td>80.000000</td>\n",
       "    </tr>\n",
       "    <tr>\n",
       "      <th>75%</th>\n",
       "      <td>84.000000</td>\n",
       "    </tr>\n",
       "    <tr>\n",
       "      <th>max</th>\n",
       "      <td>89.000000</td>\n",
       "    </tr>\n",
       "  </tbody>\n",
       "</table>\n",
       "</div>"
      ],
      "text/plain": [
       "           rating\n",
       "count  879.000000\n",
       "mean    78.258248\n",
       "std      7.402854\n",
       "min     60.000000\n",
       "25%     74.000000\n",
       "50%     80.000000\n",
       "75%     84.000000\n",
       "max     89.000000"
      ]
     },
     "execution_count": 24,
     "metadata": {},
     "output_type": "execute_result"
    }
   ],
   "source": [
    "df.describe()"
   ]
  },
  {
   "cell_type": "markdown",
   "metadata": {},
   "source": [
    "## Data Assessing\n",
    "\n",
    "### Quality Issues\n",
    "\n",
    "1. **model** - some brands are written diiferently like OPPO in model column `consistency`\n",
    "2. **price** - has unneccesary '₹' `validity`\n",
    "3. **price** - has ',' between numbers `validity`\n",
    "4. **price** - phone Namotel has a price of 99 `accuracy`\n",
    "5. **ratings** - missing values `completeness`\n",
    "6. **processor** - has some incorrect values for some samsung phones(row # -642,647,649,659,667,701,750,759,819,859,883,884,919,927,929,932,1002) `validity`\n",
    "7. There is ipod on row 756 `validity`\n",
    "8. **memory** - incorrect values in rows (441,485,534,553,584,610,613,642,647,649,659,667,701,750,759,819,859,884,919,927,929,932,990,1002) `validity`\n",
    "9. **battery** - incorrect values in rows(113,151,309,365,378,441,450,553,584,610,613,630,642,647,649,659,667,701,750,756,759,764,819,855,859,884,915,916,927,929,932,990,1002) `validity`\n",
    "10. **display** - sometimes frequency is not available `completeness`\n",
    "11. **display** - incorrect values in rows(378,441,450,553,584,610,613,630,642,647,649,659,667,701,750,759,764,819,859,884,915,916,927,929,932,990,1002) `validity`\n",
    "12. certain phones are foldable and the info is scattered `validity`\n",
    "13. **camera** - words like Dual, Triple and Quad are used to represent number of cameras and front and rear cameras are separated by '&'\n",
    "14. **camera** - problem with rows (100,113,151,157,161,238,273,308,309,323,324,365,367,378,394,441,450,484,506,534,553,571,572,575,584,610,613,615,630,642,647,649,659,667,684,687,705,711,723,728,750,756,759,764,792,819,846,854,855,858,883,884,896,915,916,927,929,932,945,956,990,995,1002,1016\n",
    ") `validity`\n",
    "15. **card** - sometimes contains info about os and camera `validity`\n",
    "16. **os** - sometimes contains info about bluetooth and fm radio `validity`\n",
    "17. **os** - issue with rows (324,378) `validity`\n",
    "18. **os** - sometimes contains os version name like lollipop `consistency`\n",
    "19. missing values in camera, card and os `completeness`\n",
    "20. datatype  of price and rating is incorrect `validity`\n",
    "\n",
    "\n",
    "\n",
    "### Tidiness Issues\n",
    "\n",
    "1. **sim** - can be split into 3 cols has_5g, has_NFC, has_IR_Blaster\n",
    "2. **ram** - can be split into 2 cols RAM and ROM\n",
    "3. **processor** - can be split into processor name, cores and cpu speed.\n",
    "4. **battery** - can be split into battery capacity, fast_charging_available\n",
    "5. **display** - can be split into size, resolution_width, resolution_height and frequency\n",
    "6. **camera** - can be split into front and rear camera\n",
    "7. **card** - can be split into supported, extended_upto"
   ]
  },
  {
   "cell_type": "code",
   "execution_count": 25,
   "metadata": {},
   "outputs": [
    {
     "data": {
      "text/plain": [
       "0"
      ]
     },
     "execution_count": 25,
     "metadata": {},
     "output_type": "execute_result"
    }
   ],
   "source": [
    "df.duplicated().sum()"
   ]
  },
  {
   "cell_type": "code",
   "execution_count": null,
   "metadata": {},
   "outputs": [
    {
     "data": {
      "text/plain": [
       "879"
      ]
     },
     "execution_count": 27,
     "metadata": {},
     "output_type": "execute_result"
    }
   ],
   "source": []
  },
  {
   "cell_type": "code",
   "execution_count": null,
   "metadata": {},
   "outputs": [],
   "source": []
  },
  {
   "cell_type": "code",
   "execution_count": null,
   "metadata": {},
   "outputs": [],
   "source": []
  },
  {
   "cell_type": "code",
   "execution_count": null,
   "metadata": {},
   "outputs": [],
   "source": []
  },
  {
   "cell_type": "code",
   "execution_count": null,
   "metadata": {},
   "outputs": [],
   "source": []
  },
  {
   "cell_type": "code",
   "execution_count": null,
   "metadata": {},
   "outputs": [],
   "source": []
  }
 ],
 "metadata": {
  "kernelspec": {
   "display_name": "Python (new_mldl)",
   "language": "python",
   "name": "new_mldl"
  },
  "language_info": {
   "codemirror_mode": {
    "name": "ipython",
    "version": 3
   },
   "file_extension": ".py",
   "mimetype": "text/x-python",
   "name": "python",
   "nbconvert_exporter": "python",
   "pygments_lexer": "ipython3",
   "version": "3.12.2"
  }
 },
 "nbformat": 4,
 "nbformat_minor": 2
}
