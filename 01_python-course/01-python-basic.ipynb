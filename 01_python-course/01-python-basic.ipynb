{
 "cells": [
  {
   "cell_type": "markdown",
   "id": "1309c75b",
   "metadata": {},
   "source": [
    "### **VARIABLES IN PYTHON**"
   ]
  },
  {
   "cell_type": "code",
   "execution_count": 8,
   "id": "f58af3d8",
   "metadata": {},
   "outputs": [
    {
     "name": "stdout",
     "output_type": "stream",
     "text": [
      "counter = 100 miles= 1000.0 name = Mishra JI \n"
     ]
    }
   ],
   "source": [
    "counter =100\n",
    "miles =1000.0\n",
    "name = \"Mishra JI \"\n",
    "print(\"counter =\", counter,\"miles=\", miles,\"name =\", name)"
   ]
  },
  {
   "cell_type": "code",
   "execution_count": 9,
   "id": "2af2b242",
   "metadata": {},
   "outputs": [],
   "source": [
    "# militpal assigment \n",
    "a =10\n",
    "b =10\n",
    "c =10\n"
   ]
  },
  {
   "cell_type": "code",
   "execution_count": 11,
   "id": "76f80640",
   "metadata": {},
   "outputs": [
    {
     "name": "stdout",
     "output_type": "stream",
     "text": [
      "10 10 10\n"
     ]
    }
   ],
   "source": [
    "a=b=c=10\n",
    "print(a,b,c)"
   ]
  },
  {
   "cell_type": "code",
   "execution_count": 12,
   "id": "ae66183f",
   "metadata": {},
   "outputs": [
    {
     "name": "stdout",
     "output_type": "stream",
     "text": [
      "10 20 30\n"
     ]
    }
   ],
   "source": [
    "a,b,c= 10,20,30\n",
    "print(a,b,c)"
   ]
  },
  {
   "cell_type": "code",
   "execution_count": 13,
   "id": "d1d88a45",
   "metadata": {},
   "outputs": [
    {
     "name": "stdout",
     "output_type": "stream",
     "text": [
      "10 20 jai ram\n"
     ]
    }
   ],
   "source": [
    "a,b,c= 10,20,\"jai ram\"\n",
    "print(a,b,c)"
   ]
  },
  {
   "cell_type": "markdown",
   "id": "86823324",
   "metadata": {},
   "source": [
    "### **DATA TYPE**"
   ]
  },
  {
   "cell_type": "code",
   "execution_count": 22,
   "id": "a39cd296",
   "metadata": {},
   "outputs": [
    {
     "data": {
      "text/plain": [
       "float"
      ]
     },
     "execution_count": 22,
     "metadata": {},
     "output_type": "execute_result"
    }
   ],
   "source": [
    "# int - bool - float - complex\n",
    "\n",
    "var1 = 2\n",
    "var2 = True\n",
    "var3 = 17.52\n",
    "var4 = 4+3j\n",
    "type(var3)\n"
   ]
  },
  {
   "cell_type": "code",
   "execution_count": 23,
   "id": "7f29bb83",
   "metadata": {},
   "outputs": [
    {
     "data": {
      "text/plain": [
       "str"
      ]
     },
     "execution_count": 23,
     "metadata": {},
     "output_type": "execute_result"
    }
   ],
   "source": [
    "type('HI HOW ARE YOU WHERE ARE YOU FROM')"
   ]
  },
  {
   "cell_type": "code",
   "execution_count": 28,
   "id": "b5a653c3",
   "metadata": {},
   "outputs": [
    {
     "name": "stdout",
     "output_type": "stream",
     "text": [
      "Hello world\n",
      "H\n",
      "d\n",
      "Hello\n",
      "Hello world\n",
      "Hello worldHello world\n",
      "Hello worldMishra\n"
     ]
    }
   ],
   "source": [
    "# string data type\n",
    "str = 'Hello world'\n",
    "print(str)\n",
    "print(str[0])\n",
    "print(str[-1])\n",
    "print(str[0:5])\n",
    "print(str[0:])\n",
    "print(str * 2)\n",
    "print(str + \"Mishra\")"
   ]
  },
  {
   "cell_type": "code",
   "execution_count": 30,
   "id": "c4806bdf",
   "metadata": {},
   "outputs": [
    {
     "name": "stdout",
     "output_type": "stream",
     "text": [
      "['abcd', 12345, 2.44, 'mishra', 32.6]\n",
      "abcd\n",
      "32.6\n",
      "['abcd', 12345, 2.44, 'mishra', 32.6]\n",
      "['abcd', 12345, 2.44, 'mishra', 32.6]\n",
      "['abcd', 12345, 2.44, 'mishra', 32.6, 'abcd', 12345, 2.44, 'mishra', 32.6]\n",
      "['abcd', 12345, 2.44, 'mishra', 32.6, 1234, 'john']\n"
     ]
    }
   ],
   "source": [
    "# list datatype\n",
    "\n",
    "list = ['abcd', 12345, 2.44, 'mishra', 32.6]\n",
    "tinylist =[1234, 'john']\n",
    "print(list)\n",
    "print(list[0])\n",
    "print(list[-1])\n",
    "print(list[0:5])\n",
    "print(list[0:])\n",
    "print(list * 2)\n",
    "print(list + tinylist)"
   ]
  },
  {
   "cell_type": "code",
   "execution_count": null,
   "id": "c514844d",
   "metadata": {},
   "outputs": [],
   "source": []
  },
  {
   "cell_type": "code",
   "execution_count": null,
   "id": "e350e945",
   "metadata": {},
   "outputs": [],
   "source": []
  },
  {
   "cell_type": "code",
   "execution_count": null,
   "id": "fc08c2a7",
   "metadata": {},
   "outputs": [],
   "source": []
  },
  {
   "cell_type": "code",
   "execution_count": null,
   "id": "7f164621",
   "metadata": {},
   "outputs": [],
   "source": []
  },
  {
   "cell_type": "code",
   "execution_count": null,
   "id": "4e147ae5",
   "metadata": {},
   "outputs": [],
   "source": []
  }
 ],
 "metadata": {
  "kernelspec": {
   "display_name": "Python (new_mldl)",
   "language": "python",
   "name": "new_mldl"
  },
  "language_info": {
   "codemirror_mode": {
    "name": "ipython",
    "version": 3
   },
   "file_extension": ".py",
   "mimetype": "text/x-python",
   "name": "python",
   "nbconvert_exporter": "python",
   "pygments_lexer": "ipython3",
   "version": "3.12.2"
  }
 },
 "nbformat": 4,
 "nbformat_minor": 5
}
