{
 "cells": [
  {
   "cell_type": "code",
   "execution_count": 15,
   "metadata": {},
   "outputs": [],
   "source": [
    "import numpy  as np\n",
    "import pandas as pd\n",
    "import seaborn as sns\n"
   ]
  },
  {
   "cell_type": "code",
   "execution_count": 16,
   "metadata": {},
   "outputs": [
    {
     "data": {
      "text/html": [
       "<div>\n",
       "<style scoped>\n",
       "    .dataframe tbody tr th:only-of-type {\n",
       "        vertical-align: middle;\n",
       "    }\n",
       "\n",
       "    .dataframe tbody tr th {\n",
       "        vertical-align: top;\n",
       "    }\n",
       "\n",
       "    .dataframe thead th {\n",
       "        text-align: right;\n",
       "    }\n",
       "</style>\n",
       "<table border=\"1\" class=\"dataframe\">\n",
       "  <thead>\n",
       "    <tr style=\"text-align: right;\">\n",
       "      <th></th>\n",
       "      <th>Series_Title</th>\n",
       "      <th>Released_Year</th>\n",
       "      <th>Runtime</th>\n",
       "      <th>Genre</th>\n",
       "      <th>IMDB_Rating</th>\n",
       "      <th>Director</th>\n",
       "      <th>Star1</th>\n",
       "      <th>No_of_Votes</th>\n",
       "      <th>Gross</th>\n",
       "      <th>Metascore</th>\n",
       "    </tr>\n",
       "  </thead>\n",
       "  <tbody>\n",
       "    <tr>\n",
       "      <th>0</th>\n",
       "      <td>The Shawshank Redemption</td>\n",
       "      <td>1994</td>\n",
       "      <td>142</td>\n",
       "      <td>Drama</td>\n",
       "      <td>9.3</td>\n",
       "      <td>Frank Darabont</td>\n",
       "      <td>Tim Robbins</td>\n",
       "      <td>2343110</td>\n",
       "      <td>28341469.0</td>\n",
       "      <td>80.0</td>\n",
       "    </tr>\n",
       "  </tbody>\n",
       "</table>\n",
       "</div>"
      ],
      "text/plain": [
       "               Series_Title Released_Year  Runtime  Genre  IMDB_Rating  \\\n",
       "0  The Shawshank Redemption          1994      142  Drama          9.3   \n",
       "\n",
       "         Director        Star1  No_of_Votes       Gross  Metascore  \n",
       "0  Frank Darabont  Tim Robbins      2343110  28341469.0       80.0  "
      ]
     },
     "execution_count": 16,
     "metadata": {},
     "output_type": "execute_result"
    }
   ],
   "source": [
    "movies =pd.read_csv('imdb-top-1000.csv')\n",
    "movies.head(1)\n"
   ]
  },
  {
   "cell_type": "code",
   "execution_count": 17,
   "metadata": {},
   "outputs": [
    {
     "data": {
      "text/plain": [
       "<pandas.core.groupby.generic.DataFrameGroupBy object at 0x0000019612238EF0>"
      ]
     },
     "execution_count": 17,
     "metadata": {},
     "output_type": "execute_result"
    }
   ],
   "source": [
    "genres =movies.groupby('Genre')\n",
    "genres"
   ]
  },
  {
   "cell_type": "code",
   "execution_count": null,
   "metadata": {},
   "outputs": [],
   "source": []
  },
  {
   "cell_type": "code",
   "execution_count": 18,
   "metadata": {},
   "outputs": [
    {
     "data": {
      "text/html": [
       "<div>\n",
       "<style scoped>\n",
       "    .dataframe tbody tr th:only-of-type {\n",
       "        vertical-align: middle;\n",
       "    }\n",
       "\n",
       "    .dataframe tbody tr th {\n",
       "        vertical-align: top;\n",
       "    }\n",
       "\n",
       "    .dataframe thead th {\n",
       "        text-align: right;\n",
       "    }\n",
       "</style>\n",
       "<table border=\"1\" class=\"dataframe\">\n",
       "  <thead>\n",
       "    <tr style=\"text-align: right;\">\n",
       "      <th></th>\n",
       "      <th>Series_Title</th>\n",
       "      <th>Released_Year</th>\n",
       "      <th>Runtime</th>\n",
       "      <th>IMDB_Rating</th>\n",
       "      <th>Director</th>\n",
       "      <th>Star1</th>\n",
       "      <th>No_of_Votes</th>\n",
       "      <th>Gross</th>\n",
       "      <th>Metascore</th>\n",
       "    </tr>\n",
       "    <tr>\n",
       "      <th>Genre</th>\n",
       "      <th></th>\n",
       "      <th></th>\n",
       "      <th></th>\n",
       "      <th></th>\n",
       "      <th></th>\n",
       "      <th></th>\n",
       "      <th></th>\n",
       "      <th></th>\n",
       "      <th></th>\n",
       "    </tr>\n",
       "  </thead>\n",
       "  <tbody>\n",
       "    <tr>\n",
       "      <th>Action</th>\n",
       "      <td>300</td>\n",
       "      <td>1924</td>\n",
       "      <td>45</td>\n",
       "      <td>7.6</td>\n",
       "      <td>Abhishek Chaubey</td>\n",
       "      <td>Aamir Khan</td>\n",
       "      <td>25312</td>\n",
       "      <td>3296.0</td>\n",
       "      <td>33.0</td>\n",
       "    </tr>\n",
       "    <tr>\n",
       "      <th>Adventure</th>\n",
       "      <td>2001: A Space Odyssey</td>\n",
       "      <td>1925</td>\n",
       "      <td>88</td>\n",
       "      <td>7.6</td>\n",
       "      <td>Akira Kurosawa</td>\n",
       "      <td>Aamir Khan</td>\n",
       "      <td>29999</td>\n",
       "      <td>61001.0</td>\n",
       "      <td>41.0</td>\n",
       "    </tr>\n",
       "    <tr>\n",
       "      <th>Animation</th>\n",
       "      <td>Akira</td>\n",
       "      <td>1940</td>\n",
       "      <td>71</td>\n",
       "      <td>7.6</td>\n",
       "      <td>Adam Elliot</td>\n",
       "      <td>Adrian Molina</td>\n",
       "      <td>25229</td>\n",
       "      <td>128985.0</td>\n",
       "      <td>61.0</td>\n",
       "    </tr>\n",
       "    <tr>\n",
       "      <th>Biography</th>\n",
       "      <td>12 Years a Slave</td>\n",
       "      <td>1928</td>\n",
       "      <td>93</td>\n",
       "      <td>7.6</td>\n",
       "      <td>Adam McKay</td>\n",
       "      <td>Adrien Brody</td>\n",
       "      <td>27254</td>\n",
       "      <td>21877.0</td>\n",
       "      <td>48.0</td>\n",
       "    </tr>\n",
       "    <tr>\n",
       "      <th>Comedy</th>\n",
       "      <td>(500) Days of Summer</td>\n",
       "      <td>1921</td>\n",
       "      <td>68</td>\n",
       "      <td>7.6</td>\n",
       "      <td>Alejandro G. Iñárritu</td>\n",
       "      <td>Aamir Khan</td>\n",
       "      <td>26337</td>\n",
       "      <td>1305.0</td>\n",
       "      <td>45.0</td>\n",
       "    </tr>\n",
       "    <tr>\n",
       "      <th>Crime</th>\n",
       "      <td>12 Angry Men</td>\n",
       "      <td>1931</td>\n",
       "      <td>80</td>\n",
       "      <td>7.6</td>\n",
       "      <td>Akira Kurosawa</td>\n",
       "      <td>Ajay Devgn</td>\n",
       "      <td>27712</td>\n",
       "      <td>6013.0</td>\n",
       "      <td>47.0</td>\n",
       "    </tr>\n",
       "    <tr>\n",
       "      <th>Drama</th>\n",
       "      <td>1917</td>\n",
       "      <td>1925</td>\n",
       "      <td>64</td>\n",
       "      <td>7.6</td>\n",
       "      <td>Aamir Khan</td>\n",
       "      <td>Abhay Deol</td>\n",
       "      <td>25088</td>\n",
       "      <td>3600.0</td>\n",
       "      <td>28.0</td>\n",
       "    </tr>\n",
       "    <tr>\n",
       "      <th>Family</th>\n",
       "      <td>E.T. the Extra-Terrestrial</td>\n",
       "      <td>1971</td>\n",
       "      <td>100</td>\n",
       "      <td>7.8</td>\n",
       "      <td>Mel Stuart</td>\n",
       "      <td>Gene Wilder</td>\n",
       "      <td>178731</td>\n",
       "      <td>4000000.0</td>\n",
       "      <td>67.0</td>\n",
       "    </tr>\n",
       "    <tr>\n",
       "      <th>Fantasy</th>\n",
       "      <td>Das Cabinet des Dr. Caligari</td>\n",
       "      <td>1920</td>\n",
       "      <td>76</td>\n",
       "      <td>7.9</td>\n",
       "      <td>F.W. Murnau</td>\n",
       "      <td>Max Schreck</td>\n",
       "      <td>57428</td>\n",
       "      <td>337574718.0</td>\n",
       "      <td>NaN</td>\n",
       "    </tr>\n",
       "    <tr>\n",
       "      <th>Film-Noir</th>\n",
       "      <td>Shadow of a Doubt</td>\n",
       "      <td>1941</td>\n",
       "      <td>100</td>\n",
       "      <td>7.8</td>\n",
       "      <td>Alfred Hitchcock</td>\n",
       "      <td>Humphrey Bogart</td>\n",
       "      <td>59556</td>\n",
       "      <td>449191.0</td>\n",
       "      <td>94.0</td>\n",
       "    </tr>\n",
       "    <tr>\n",
       "      <th>Horror</th>\n",
       "      <td>Alien</td>\n",
       "      <td>1933</td>\n",
       "      <td>71</td>\n",
       "      <td>7.6</td>\n",
       "      <td>Alejandro Amenábar</td>\n",
       "      <td>Anthony Perkins</td>\n",
       "      <td>27007</td>\n",
       "      <td>89029.0</td>\n",
       "      <td>46.0</td>\n",
       "    </tr>\n",
       "    <tr>\n",
       "      <th>Mystery</th>\n",
       "      <td>Dark City</td>\n",
       "      <td>1938</td>\n",
       "      <td>96</td>\n",
       "      <td>7.6</td>\n",
       "      <td>Alex Proyas</td>\n",
       "      <td>Bernard-Pierre Donnadieu</td>\n",
       "      <td>33982</td>\n",
       "      <td>1035953.0</td>\n",
       "      <td>52.0</td>\n",
       "    </tr>\n",
       "    <tr>\n",
       "      <th>Thriller</th>\n",
       "      <td>Wait Until Dark</td>\n",
       "      <td>1967</td>\n",
       "      <td>108</td>\n",
       "      <td>7.8</td>\n",
       "      <td>Terence Young</td>\n",
       "      <td>Audrey Hepburn</td>\n",
       "      <td>27733</td>\n",
       "      <td>17550741.0</td>\n",
       "      <td>81.0</td>\n",
       "    </tr>\n",
       "    <tr>\n",
       "      <th>Western</th>\n",
       "      <td>Il buono, il brutto, il cattivo</td>\n",
       "      <td>1965</td>\n",
       "      <td>132</td>\n",
       "      <td>7.8</td>\n",
       "      <td>Clint Eastwood</td>\n",
       "      <td>Clint Eastwood</td>\n",
       "      <td>65659</td>\n",
       "      <td>5321508.0</td>\n",
       "      <td>69.0</td>\n",
       "    </tr>\n",
       "  </tbody>\n",
       "</table>\n",
       "</div>"
      ],
      "text/plain": [
       "                              Series_Title Released_Year  Runtime  \\\n",
       "Genre                                                               \n",
       "Action                                 300          1924       45   \n",
       "Adventure            2001: A Space Odyssey          1925       88   \n",
       "Animation                            Akira          1940       71   \n",
       "Biography                 12 Years a Slave          1928       93   \n",
       "Comedy                (500) Days of Summer          1921       68   \n",
       "Crime                         12 Angry Men          1931       80   \n",
       "Drama                                 1917          1925       64   \n",
       "Family          E.T. the Extra-Terrestrial          1971      100   \n",
       "Fantasy       Das Cabinet des Dr. Caligari          1920       76   \n",
       "Film-Noir                Shadow of a Doubt          1941      100   \n",
       "Horror                               Alien          1933       71   \n",
       "Mystery                          Dark City          1938       96   \n",
       "Thriller                   Wait Until Dark          1967      108   \n",
       "Western    Il buono, il brutto, il cattivo          1965      132   \n",
       "\n",
       "           IMDB_Rating               Director                     Star1  \\\n",
       "Genre                                                                     \n",
       "Action             7.6       Abhishek Chaubey                Aamir Khan   \n",
       "Adventure          7.6         Akira Kurosawa                Aamir Khan   \n",
       "Animation          7.6            Adam Elliot             Adrian Molina   \n",
       "Biography          7.6             Adam McKay              Adrien Brody   \n",
       "Comedy             7.6  Alejandro G. Iñárritu                Aamir Khan   \n",
       "Crime              7.6         Akira Kurosawa                Ajay Devgn   \n",
       "Drama              7.6             Aamir Khan                Abhay Deol   \n",
       "Family             7.8             Mel Stuart               Gene Wilder   \n",
       "Fantasy            7.9            F.W. Murnau               Max Schreck   \n",
       "Film-Noir          7.8       Alfred Hitchcock           Humphrey Bogart   \n",
       "Horror             7.6     Alejandro Amenábar           Anthony Perkins   \n",
       "Mystery            7.6            Alex Proyas  Bernard-Pierre Donnadieu   \n",
       "Thriller           7.8          Terence Young            Audrey Hepburn   \n",
       "Western            7.8         Clint Eastwood            Clint Eastwood   \n",
       "\n",
       "           No_of_Votes        Gross  Metascore  \n",
       "Genre                                           \n",
       "Action           25312       3296.0       33.0  \n",
       "Adventure        29999      61001.0       41.0  \n",
       "Animation        25229     128985.0       61.0  \n",
       "Biography        27254      21877.0       48.0  \n",
       "Comedy           26337       1305.0       45.0  \n",
       "Crime            27712       6013.0       47.0  \n",
       "Drama            25088       3600.0       28.0  \n",
       "Family          178731    4000000.0       67.0  \n",
       "Fantasy          57428  337574718.0        NaN  \n",
       "Film-Noir        59556     449191.0       94.0  \n",
       "Horror           27007      89029.0       46.0  \n",
       "Mystery          33982    1035953.0       52.0  \n",
       "Thriller         27733   17550741.0       81.0  \n",
       "Western          65659    5321508.0       69.0  "
      ]
     },
     "execution_count": 18,
     "metadata": {},
     "output_type": "execute_result"
    }
   ],
   "source": [
    "# Applying builtin aggregation fuctions on groupby objects\n",
    "genres.min()"
   ]
  },
  {
   "cell_type": "code",
   "execution_count": 19,
   "metadata": {},
   "outputs": [
    {
     "data": {
      "text/plain": [
       "Genre\n",
       "Drama     3.540997e+10\n",
       "Action    3.263226e+10\n",
       "Comedy    1.566387e+10\n",
       "Name: Gross, dtype: float64"
      ]
     },
     "execution_count": 19,
     "metadata": {},
     "output_type": "execute_result"
    }
   ],
   "source": [
    "# find the top 3 genres by total earning\n",
    "movies.groupby('Genre').sum()['Gross'].sort_values(ascending=False).head(3)\n"
   ]
  },
  {
   "cell_type": "code",
   "execution_count": 20,
   "metadata": {},
   "outputs": [
    {
     "data": {
      "text/plain": [
       "Genre\n",
       "Drama     3.540997e+10\n",
       "Action    3.263226e+10\n",
       "Comedy    1.566387e+10\n",
       "Name: Gross, dtype: float64"
      ]
     },
     "execution_count": 20,
     "metadata": {},
     "output_type": "execute_result"
    }
   ],
   "source": [
    "movies.groupby('Genre')['Gross'].sum().sort_values(ascending=False).head(3)"
   ]
  },
  {
   "cell_type": "code",
   "execution_count": null,
   "metadata": {},
   "outputs": [],
   "source": []
  },
  {
   "cell_type": "code",
   "execution_count": 21,
   "metadata": {},
   "outputs": [
    {
     "data": {
      "text/plain": [
       "Genre\n",
       "Western    8.35\n",
       "Name: IMDB_Rating, dtype: float64"
      ]
     },
     "execution_count": 21,
     "metadata": {},
     "output_type": "execute_result"
    }
   ],
   "source": [
    "# find the genre with highest avg IMDB rating\n",
    "movies.groupby('Genre')['IMDB_Rating'].mean().sort_values(ascending=False).head(1)\n"
   ]
  },
  {
   "cell_type": "code",
   "execution_count": 22,
   "metadata": {},
   "outputs": [],
   "source": [
    "# find the genre with highest avg IMDB rating\n"
   ]
  },
  {
   "cell_type": "code",
   "execution_count": 23,
   "metadata": {},
   "outputs": [
    {
     "data": {
      "text/plain": [
       "Director\n",
       "Christopher Nolan    11578345\n",
       "Name: No_of_Votes, dtype: int64"
      ]
     },
     "execution_count": 23,
     "metadata": {},
     "output_type": "execute_result"
    }
   ],
   "source": [
    "# find director with most popularity\n",
    "movies.groupby('Director')['No_of_Votes'].sum().sort_values(ascending=False).head(1)"
   ]
  },
  {
   "cell_type": "code",
   "execution_count": 24,
   "metadata": {},
   "outputs": [
    {
     "data": {
      "text/plain": [
       "Genre\n",
       "Action       9.0\n",
       "Adventure    8.6\n",
       "Animation    8.6\n",
       "Biography    8.9\n",
       "Comedy       8.6\n",
       "Crime        9.2\n",
       "Drama        9.3\n",
       "Family       7.8\n",
       "Fantasy      8.1\n",
       "Film-Noir    8.1\n",
       "Horror       8.5\n",
       "Mystery      8.4\n",
       "Thriller     7.8\n",
       "Western      8.8\n",
       "Name: IMDB_Rating, dtype: float64"
      ]
     },
     "execution_count": 24,
     "metadata": {},
     "output_type": "execute_result"
    }
   ],
   "source": [
    "# find the highest rated movie of each genre\n",
    "movies.groupby('Genre')['IMDB_Rating'].max()\n"
   ]
  },
  {
   "cell_type": "code",
   "execution_count": 25,
   "metadata": {},
   "outputs": [
    {
     "data": {
      "text/plain": [
       "Star1\n",
       "Tom Hanks             12\n",
       "Robert De Niro        11\n",
       "Clint Eastwood        10\n",
       "Al Pacino             10\n",
       "Leonardo DiCaprio      9\n",
       "                      ..\n",
       "Glen Hansard           1\n",
       "Giuseppe Battiston     1\n",
       "Giulietta Masina       1\n",
       "Gerardo Taracena       1\n",
       "Ömer Faruk Sorak       1\n",
       "Name: Series_Title, Length: 660, dtype: int64"
      ]
     },
     "execution_count": 25,
     "metadata": {},
     "output_type": "execute_result"
    }
   ],
   "source": [
    "# find number of movies done by each actor\n",
    "movies['Star1'].value_counts()\n",
    "movies.groupby('Star1')['Series_Title'].count().sort_values(ascending=False)"
   ]
  },
  {
   "cell_type": "code",
   "execution_count": 26,
   "metadata": {},
   "outputs": [],
   "source": [
    "# GroupBy Attributes and Methods\n",
    "# find total number of groups -> len\n",
    "# find items in each group -> size\n",
    "# first()/last() -> nth item\n",
    "# get_group -> vs filtering\n",
    "# groups\n",
    "# describe\n",
    "# sample\n",
    "# nunique"
   ]
  },
  {
   "cell_type": "code",
   "execution_count": 27,
   "metadata": {},
   "outputs": [
    {
     "data": {
      "text/plain": [
       "14"
      ]
     },
     "execution_count": 27,
     "metadata": {},
     "output_type": "execute_result"
    }
   ],
   "source": [
    "len(movies.groupby('Genre'))"
   ]
  },
  {
   "cell_type": "code",
   "execution_count": 28,
   "metadata": {},
   "outputs": [
    {
     "data": {
      "text/plain": [
       "{'Action': [2, 5, 8, 10, 13, 14, 16, 29, 30, 31, 39, 42, 44, 55, 57, 59, 60, 63, 68, 72, 106, 109, 129, 130, 134, 140, 142, 144, 152, 155, 160, 161, 166, 168, 171, 172, 177, 181, 194, 201, 202, 216, 217, 223, 224, 236, 241, 262, 275, 294, 308, 320, 325, 326, 331, 337, 339, 340, 343, 345, 348, 351, 353, 356, 357, 362, 368, 369, 375, 376, 390, 410, 431, 436, 473, 477, 479, 482, 488, 493, 496, 502, 507, 511, 532, 535, 540, 543, 564, 569, 570, 573, 577, 582, 583, 602, 605, 608, 615, 623, ...], 'Adventure': [21, 47, 93, 110, 114, 116, 118, 137, 178, 179, 191, 193, 209, 226, 231, 247, 267, 273, 281, 300, 301, 304, 306, 323, 329, 361, 366, 377, 402, 406, 415, 426, 458, 470, 497, 498, 506, 513, 514, 537, 549, 552, 553, 566, 576, 604, 609, 618, 638, 647, 675, 681, 686, 692, 711, 713, 739, 755, 781, 797, 798, 851, 873, 884, 912, 919, 947, 957, 964, 966, 984, 991], 'Animation': [23, 43, 46, 56, 58, 61, 66, 70, 101, 135, 146, 151, 158, 170, 197, 205, 211, 213, 219, 229, 230, 242, 245, 246, 270, 330, 332, 358, 367, 378, 386, 389, 394, 395, 399, 401, 405, 409, 469, 499, 510, 516, 518, 522, 578, 586, 592, 595, 596, 599, 633, 640, 643, 651, 665, 672, 694, 728, 740, 741, 744, 756, 758, 761, 771, 783, 796, 799, 822, 828, 843, 875, 891, 892, 902, 906, 920, 956, 971, 976, 986, 992], 'Biography': [7, 15, 18, 35, 38, 54, 102, 107, 131, 139, 147, 157, 159, 173, 176, 212, 215, 218, 228, 235, 243, 263, 276, 282, 290, 298, 317, 328, 338, 342, 346, 359, 360, 365, 372, 373, 385, 411, 416, 418, 424, 429, 484, 525, 536, 542, 545, 575, 579, 587, 600, 606, 614, 622, 632, 635, 644, 649, 650, 657, 671, 673, 684, 729, 748, 753, 757, 759, 766, 770, 779, 809, 810, 815, 820, 831, 849, 858, 877, 882, 897, 910, 915, 923, 940, 949, 952, 987], 'Comedy': [19, 26, 51, 52, 64, 78, 83, 95, 96, 112, 117, 120, 127, 128, 132, 153, 169, 183, 192, 204, 207, 208, 214, 221, 233, 238, 240, 250, 251, 252, 256, 261, 266, 277, 284, 311, 313, 316, 318, 322, 327, 374, 379, 381, 392, 396, 403, 413, 414, 417, 427, 435, 445, 446, 449, 455, 459, 460, 463, 464, 466, 471, 472, 475, 481, 490, 494, 500, 503, 509, 526, 528, 530, 531, 533, 538, 539, 541, 547, 557, 558, 562, 563, 565, 574, 591, 593, 594, 598, 613, 626, 630, 660, 662, 667, 679, 680, 683, 687, 701, ...], 'Crime': [1, 3, 4, 6, 22, 25, 27, 28, 33, 37, 41, 71, 77, 79, 86, 87, 103, 108, 111, 113, 123, 125, 133, 136, 162, 163, 164, 165, 180, 186, 187, 189, 198, 222, 232, 239, 255, 257, 287, 288, 299, 305, 335, 363, 364, 380, 384, 397, 437, 438, 441, 442, 444, 450, 451, 465, 474, 480, 485, 487, 505, 512, 519, 520, 523, 527, 546, 556, 560, 584, 597, 603, 607, 611, 621, 639, 653, 664, 669, 676, 695, 708, 723, 762, 763, 767, 775, 791, 795, 802, 811, 823, 827, 833, 885, 895, 921, 922, 926, 938, ...], 'Drama': [0, 9, 11, 17, 20, 24, 32, 34, 36, 40, 45, 50, 53, 62, 65, 67, 73, 74, 76, 80, 82, 84, 85, 88, 89, 90, 91, 92, 94, 97, 98, 99, 100, 104, 105, 121, 122, 124, 126, 138, 141, 143, 148, 149, 150, 154, 156, 167, 174, 175, 182, 184, 185, 188, 190, 195, 196, 199, 200, 203, 206, 210, 225, 227, 234, 237, 244, 248, 249, 253, 254, 258, 259, 260, 264, 265, 268, 269, 272, 274, 278, 279, 280, 283, 285, 286, 289, 291, 292, 293, 295, 296, 297, 302, 303, 307, 310, 312, 314, 315, ...], 'Family': [688, 698], 'Fantasy': [321, 568], 'Film-Noir': [309, 456, 712], 'Horror': [49, 75, 271, 419, 544, 707, 724, 844, 876, 932, 948], 'Mystery': [69, 81, 119, 145, 220, 393, 420, 714, 829, 899, 959, 961], 'Thriller': [700], 'Western': [12, 48, 115, 691]}"
      ]
     },
     "execution_count": 28,
     "metadata": {},
     "output_type": "execute_result"
    }
   ],
   "source": [
    "genres.groups"
   ]
  },
  {
   "cell_type": "code",
   "execution_count": null,
   "metadata": {},
   "outputs": [],
   "source": []
  },
  {
   "cell_type": "code",
   "execution_count": null,
   "metadata": {},
   "outputs": [],
   "source": []
  },
  {
   "cell_type": "code",
   "execution_count": null,
   "metadata": {},
   "outputs": [],
   "source": []
  },
  {
   "cell_type": "code",
   "execution_count": null,
   "metadata": {},
   "outputs": [],
   "source": []
  },
  {
   "cell_type": "code",
   "execution_count": null,
   "metadata": {},
   "outputs": [],
   "source": []
  },
  {
   "cell_type": "code",
   "execution_count": null,
   "metadata": {},
   "outputs": [],
   "source": []
  },
  {
   "cell_type": "code",
   "execution_count": null,
   "metadata": {},
   "outputs": [],
   "source": []
  }
 ],
 "metadata": {
  "kernelspec": {
   "display_name": "Python (new_mldl)",
   "language": "python",
   "name": "new_mldl"
  },
  "language_info": {
   "codemirror_mode": {
    "name": "ipython",
    "version": 3
   },
   "file_extension": ".py",
   "mimetype": "text/x-python",
   "name": "python",
   "nbconvert_exporter": "python",
   "pygments_lexer": "ipython3",
   "version": "3.12.2"
  }
 },
 "nbformat": 4,
 "nbformat_minor": 2
}
