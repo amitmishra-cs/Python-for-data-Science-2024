{
 "cells": [
  {
   "cell_type": "markdown",
   "id": "fcc02af6",
   "metadata": {},
   "source": [
    "## DATA ANALYSISS OREALY BOOK REVISION"
   ]
  },
  {
   "cell_type": "code",
   "execution_count": 1,
   "id": "0524c030",
   "metadata": {},
   "outputs": [],
   "source": [
    "import numpy as np\n",
    "import pandas as pd"
   ]
  },
  {
   "cell_type": "code",
   "execution_count": 2,
   "id": "a54ceeec",
   "metadata": {},
   "outputs": [
    {
     "data": {
      "text/plain": [
       "[1.0733943814280065,\n",
       " -0.829519192314567,\n",
       " 0.7548166838846698,\n",
       " -0.1901158762218853,\n",
       " -0.31455925412524727,\n",
       " -1.5945105999263924,\n",
       " 0.21981322490207883]"
      ]
     },
     "execution_count": 2,
     "metadata": {},
     "output_type": "execute_result"
    }
   ],
   "source": [
    "data =[np.random.standard_normal() for i in range(7)]\n",
    "data"
   ]
  },
  {
   "cell_type": "code",
   "execution_count": 4,
   "id": "7a480d5e",
   "metadata": {},
   "outputs": [
    {
     "name": "stdout",
     "output_type": "stream",
     "text": [
      "[1.0733943814280065, -0.829519192314567, 0.7548166838846698, -0.1901158762218853, -0.31455925412524727, -1.5945105999263924, 0.21981322490207883]\n"
     ]
    }
   ],
   "source": [
    "print(data)"
   ]
  },
  {
   "cell_type": "code",
   "execution_count": null,
   "id": "c89d9664",
   "metadata": {},
   "outputs": [
    {
     "data": {
      "text/plain": [
       "2"
      ]
     },
     "execution_count": 22,
     "metadata": {},
     "output_type": "execute_result"
    }
   ],
   "source": [
    "b = [1, 2, 3]\n",
    "c = [1, 2, 3]\n",
    "b.append(5)\n",
    "b.insert(2,7)\n",
    "b.reverse()\n",
    "b.sort()\n",
    "b.index(3)\n",
    "# print(b)\n",
    "\n",
    "\n",
    "\n",
    "# append()  count()   insert()  reverse()\n",
    "# clear()   extend()  pop()     sort()\n",
    "# copy()    index()   remove()"
   ]
  },
  {
   "cell_type": "code",
   "execution_count": 33,
   "id": "75ba7114",
   "metadata": {},
   "outputs": [
    {
     "data": {
      "text/plain": [
       "datetime.datetime(2025, 7, 22, 15, 26, 55, 812661)"
      ]
     },
     "execution_count": 33,
     "metadata": {},
     "output_type": "execute_result"
    }
   ],
   "source": [
    "import datetime\n",
    "datetime.datetime.now()"
   ]
  },
  {
   "cell_type": "code",
   "execution_count": null,
   "id": "741e848d",
   "metadata": {},
   "outputs": [],
   "source": []
  },
  {
   "cell_type": "code",
   "execution_count": null,
   "id": "1d7744ca",
   "metadata": {},
   "outputs": [],
   "source": []
  },
  {
   "cell_type": "code",
   "execution_count": null,
   "id": "0ed18169",
   "metadata": {},
   "outputs": [],
   "source": []
  }
 ],
 "metadata": {
  "kernelspec": {
   "display_name": "Python (new_mldl)",
   "language": "python",
   "name": "new_mldl"
  },
  "language_info": {
   "codemirror_mode": {
    "name": "ipython",
    "version": 3
   },
   "file_extension": ".py",
   "mimetype": "text/x-python",
   "name": "python",
   "nbconvert_exporter": "python",
   "pygments_lexer": "ipython3",
   "version": "3.12.2"
  }
 },
 "nbformat": 4,
 "nbformat_minor": 5
}
