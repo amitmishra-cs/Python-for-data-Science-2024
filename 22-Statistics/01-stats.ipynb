{
 "cells": [
  {
   "cell_type": "markdown",
   "id": "d2cf00ed",
   "metadata": {},
   "source": [
    "# Parametric Density Estimation\n",
    "\n",
    "1.   List item\n",
    "2.   List item\n"
   ]
  },
  {
   "cell_type": "code",
   "execution_count": 1,
   "id": "df668aa7",
   "metadata": {},
   "outputs": [],
   "source": [
    "import matplotlib.pyplot as plt\n",
    "import numpy as np\n",
    "from numpy.random import normal\n",
    "\n",
    "sample = normal(loc=50, scale=5,size=1000)"
   ]
  },
  {
   "cell_type": "code",
   "execution_count": null,
   "id": "27626fcc",
   "metadata": {},
   "outputs": [],
   "source": []
  },
  {
   "cell_type": "code",
   "execution_count": null,
   "metadata": {},
   "outputs": [],
   "source": []
  },
  {
   "cell_type": "code",
   "execution_count": null,
   "id": "1a2484e1",
   "metadata": {},
   "outputs": [],
   "source": []
  }
 ],
 "metadata": {
  "kernelspec": {
   "display_name": "Python (new_mldl)",
   "language": "python",
   "name": "new_mldl"
  },
  "language_info": {
   "codemirror_mode": {
    "name": "ipython",
    "version": 3
   },
   "file_extension": ".py",
   "mimetype": "text/x-python",
   "name": "python",
   "nbconvert_exporter": "python",
   "pygments_lexer": "ipython3",
   "version": "3.12.2"
  }
 },
 "nbformat": 4,
 "nbformat_minor": 5
}
