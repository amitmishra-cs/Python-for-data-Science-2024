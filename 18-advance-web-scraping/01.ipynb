{
 "cells": [
  {
   "cell_type": "code",
   "execution_count": 17,
   "metadata": {},
   "outputs": [],
   "source": [
    "from bs4 import BeautifulSoup\n",
    "import numpy as np\n",
    "import pandas as pd"
   ]
  },
  {
   "cell_type": "code",
   "execution_count": 18,
   "metadata": {},
   "outputs": [],
   "source": [
    "with open('smartprix.html', 'r', encoding='utf-8') as f:\n",
    "    html =f.read()"
   ]
  },
  {
   "cell_type": "code",
   "execution_count": 19,
   "metadata": {},
   "outputs": [],
   "source": [
    "from bs4 import BeautifulSoup "
   ]
  },
  {
   "cell_type": "code",
   "execution_count": 20,
   "metadata": {},
   "outputs": [],
   "source": [
    "soup = BeautifulSoup(html, 'lxml')"
   ]
  },
  {
   "cell_type": "code",
   "execution_count": 21,
   "metadata": {},
   "outputs": [],
   "source": [
    "containers = soup.find_all('div',{'class':'sm-product has-tag has-features has-actions'})\n"
   ]
  },
  {
   "cell_type": "code",
   "execution_count": 24,
   "metadata": {},
   "outputs": [
    {
     "name": "stdout",
     "output_type": "stream",
     "text": [
      "<h2>OnePlus Nord CE 2 Lite 5G</h2>\n",
      "₹18,999\n",
      "81\n",
      "<h2>Samsung Galaxy A14 5G</h2>\n",
      "₹16,499\n",
      "75\n",
      "<h2>Samsung Galaxy F23 5G (6GB RAM + 128GB)</h2>\n",
      "₹16,999\n",
      "80\n",
      "<h2>Motorola Moto G62 5G</h2>\n",
      "₹14,999\n",
      "81\n",
      "<h2>Realme 10 Pro Plus</h2>\n",
      "₹24,999\n",
      "82\n",
      "<h2>Apple iPhone 14</h2>\n",
      "₹66,999\n",
      "81\n",
      "<h2>Xiaomi Redmi Note 12 Pro Plus</h2>\n",
      "₹29,999\n",
      "86\n",
      "<h2>Oppo A78</h2>\n",
      "₹18,999\n",
      "79\n",
      "<h2>OnePlus Nord 2T 5G</h2>\n",
      "₹28,900\n",
      "84\n",
      "<h2>Samsung Galaxy A23</h2>\n",
      "₹18,499\n",
      "79\n",
      "<h2>Realme 10 Pro</h2>\n",
      "₹18,999\n",
      "82\n",
      "<h2>Xiaomi Redmi Note 12 Pro 5G</h2>\n",
      "₹24,789\n",
      "79\n",
      "<h2>Nothing Phone 1</h2>\n",
      "₹26,749\n",
      "85\n",
      "<h2>Vivo T1 5G (6GB RAM + 128GB)</h2>\n",
      "₹16,990\n",
      "80\n",
      "<h2>Apple iPhone 13</h2>\n",
      "₹61,999\n",
      "79\n",
      "<h2>Vivo Y16</h2>\n",
      "₹9,999\n",
      "65\n",
      "<h2>Xiaomi Redmi Note 12</h2>\n",
      "₹17,849\n",
      "76\n",
      "<h2>Vivo V25 Pro 5G</h2>\n",
      "₹35,999\n",
      "85\n",
      "<h2>OnePlus 10R 5G</h2>\n",
      "₹32,999\n",
      "86\n",
      "<h2>Samsung Galaxy S20 FE 5G</h2>\n",
      "₹31,266\n",
      "88\n",
      "<h2>Vivo Y22</h2>\n",
      "₹14,499\n",
      "72\n",
      "<h2>OnePlus Nord CE 2 Lite 5G (8GB RAM + 128GB)</h2>\n",
      "₹21,999\n",
      "84\n",
      "<h2>Poco X4 Pro 5G</h2>\n",
      "₹14,999\n",
      "80\n",
      "<h2>Realme 10 Pro (8GB RAM + 128GB)</h2>\n",
      "₹19,999\n",
      "84\n",
      "<h2>Vivo V25 5G</h2>\n",
      "₹27,999\n",
      "83\n",
      "<h2>Samsung Galaxy M33 5G</h2>\n",
      "₹17,390\n",
      "81\n",
      "<h2>Apple iPhone 14 Pro Max</h2>\n",
      "₹1,29,990\n",
      "76\n",
      "<h2>Samsung Galaxy M53 5G</h2>\n",
      "₹23,980\n",
      "85\n",
      "<h2>Apple iPhone 11</h2>\n",
      "₹38,999\n",
      "73\n",
      "<h2>Samsung Galaxy S22 Ultra 5G</h2>\n",
      "₹92,850\n"
     ]
    },
    {
     "ename": "AttributeError",
     "evalue": "'NoneType' object has no attribute 'find'",
     "output_type": "error",
     "traceback": [
      "\u001b[1;31m---------------------------------------------------------------------------\u001b[0m",
      "\u001b[1;31mAttributeError\u001b[0m                            Traceback (most recent call last)",
      "Cell \u001b[1;32mIn[24], line 4\u001b[0m\n\u001b[0;32m      2\u001b[0m \u001b[38;5;28mprint\u001b[39m(i\u001b[38;5;241m.\u001b[39mfind(\u001b[38;5;124m'\u001b[39m\u001b[38;5;124mh2\u001b[39m\u001b[38;5;124m'\u001b[39m))\n\u001b[0;32m      3\u001b[0m \u001b[38;5;28mprint\u001b[39m(i\u001b[38;5;241m.\u001b[39mfind(\u001b[38;5;124m'\u001b[39m\u001b[38;5;124mspan\u001b[39m\u001b[38;5;124m'\u001b[39m,{\u001b[38;5;124m'\u001b[39m\u001b[38;5;124mclass\u001b[39m\u001b[38;5;124m'\u001b[39m:\u001b[38;5;124m'\u001b[39m\u001b[38;5;124mprice\u001b[39m\u001b[38;5;124m'\u001b[39m})\u001b[38;5;241m.\u001b[39mtext)\n\u001b[1;32m----> 4\u001b[0m \u001b[38;5;28mprint\u001b[39m(\u001b[43mi\u001b[49m\u001b[38;5;241;43m.\u001b[39;49m\u001b[43mfind\u001b[49m\u001b[43m(\u001b[49m\u001b[38;5;124;43m'\u001b[39;49m\u001b[38;5;124;43mdiv\u001b[39;49m\u001b[38;5;124;43m'\u001b[39;49m\u001b[43m,\u001b[49m\u001b[43m{\u001b[49m\u001b[38;5;124;43m'\u001b[39;49m\u001b[38;5;124;43mclass\u001b[39;49m\u001b[38;5;124;43m'\u001b[39;49m\u001b[43m:\u001b[49m\u001b[38;5;124;43m'\u001b[39;49m\u001b[38;5;124;43mscore rank-2-bg\u001b[39;49m\u001b[38;5;124;43m'\u001b[39;49m\u001b[43m}\u001b[49m\u001b[43m)\u001b[49m\u001b[38;5;241;43m.\u001b[39;49m\u001b[43mfind\u001b[49m(\u001b[38;5;124m'\u001b[39m\u001b[38;5;124mb\u001b[39m\u001b[38;5;124m'\u001b[39m)\u001b[38;5;241m.\u001b[39mtext)\n",
      "\u001b[1;31mAttributeError\u001b[0m: 'NoneType' object has no attribute 'find'"
     ]
    }
   ],
   "source": [
    "for i in containers:\n",
    "    print(i.find('h2'))\n",
    "    print(i.find('span',{'class':'price'}).text)\n",
    "    print(i.find('div',{'class':'score rank-2-bg'}).find('b').text)"
   ]
  },
  {
   "cell_type": "code",
   "execution_count": null,
   "metadata": {},
   "outputs": [],
   "source": []
  }
 ],
 "metadata": {
  "kernelspec": {
   "display_name": "Python (new_mldl)",
   "language": "python",
   "name": "new_mldl"
  },
  "language_info": {
   "codemirror_mode": {
    "name": "ipython",
    "version": 3
   },
   "file_extension": ".py",
   "mimetype": "text/x-python",
   "name": "python",
   "nbconvert_exporter": "python",
   "pygments_lexer": "ipython3",
   "version": "3.12.2"
  }
 },
 "nbformat": 4,
 "nbformat_minor": 2
}
