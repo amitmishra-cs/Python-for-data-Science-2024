{
 "cells": [
  {
   "cell_type": "code",
   "execution_count": 1,
   "metadata": {},
   "outputs": [],
   "source": [
    "import numpy as np \n",
    "import pandas as pd \n",
    "import matplotlib.pyplot as plt\n",
    "import seaborn as sns "
   ]
  },
  {
   "cell_type": "code",
   "execution_count": 2,
   "metadata": {},
   "outputs": [],
   "source": [
    "pd.set_option('display.max_columns',None)\n",
    "pd.set_option('display.max_rows',None)"
   ]
  },
  {
   "cell_type": "code",
   "execution_count": 3,
   "metadata": {},
   "outputs": [
    {
     "data": {
      "text/html": [
       "<div>\n",
       "<style scoped>\n",
       "    .dataframe tbody tr th:only-of-type {\n",
       "        vertical-align: middle;\n",
       "    }\n",
       "\n",
       "    .dataframe tbody tr th {\n",
       "        vertical-align: top;\n",
       "    }\n",
       "\n",
       "    .dataframe thead th {\n",
       "        text-align: right;\n",
       "    }\n",
       "</style>\n",
       "<table border=\"1\" class=\"dataframe\">\n",
       "  <thead>\n",
       "    <tr style=\"text-align: right;\">\n",
       "      <th></th>\n",
       "      <th>brand_name</th>\n",
       "      <th>model</th>\n",
       "      <th>price</th>\n",
       "      <th>rating</th>\n",
       "      <th>has_5g</th>\n",
       "      <th>has_nfc</th>\n",
       "      <th>has_ir_blaster</th>\n",
       "      <th>processor_brand</th>\n",
       "      <th>num_cores</th>\n",
       "      <th>processor_speed</th>\n",
       "      <th>battery_capacity</th>\n",
       "      <th>fast_charging_available</th>\n",
       "      <th>fast_charging</th>\n",
       "      <th>ram_capacity</th>\n",
       "      <th>internal_memory</th>\n",
       "      <th>screen_size</th>\n",
       "      <th>refresh_rate</th>\n",
       "      <th>resolution</th>\n",
       "      <th>num_rear_cameras</th>\n",
       "      <th>num_front_cameras</th>\n",
       "      <th>os</th>\n",
       "      <th>primary_camera_rear</th>\n",
       "      <th>primary_camera_front</th>\n",
       "      <th>extended_memory_available</th>\n",
       "      <th>extended_upto</th>\n",
       "    </tr>\n",
       "  </thead>\n",
       "  <tbody>\n",
       "    <tr>\n",
       "      <th>0</th>\n",
       "      <td>oneplus</td>\n",
       "      <td>OnePlus 11 5G</td>\n",
       "      <td>54999</td>\n",
       "      <td>89.0</td>\n",
       "      <td>True</td>\n",
       "      <td>True</td>\n",
       "      <td>False</td>\n",
       "      <td>snapdragon</td>\n",
       "      <td>8.0</td>\n",
       "      <td>3.2</td>\n",
       "      <td>5000.0</td>\n",
       "      <td>1</td>\n",
       "      <td>100.0</td>\n",
       "      <td>12.0</td>\n",
       "      <td>256.0</td>\n",
       "      <td>6.70</td>\n",
       "      <td>120</td>\n",
       "      <td>1440 x 3216</td>\n",
       "      <td>3</td>\n",
       "      <td>1.0</td>\n",
       "      <td>android</td>\n",
       "      <td>50.0</td>\n",
       "      <td>16.0</td>\n",
       "      <td>0</td>\n",
       "      <td>NaN</td>\n",
       "    </tr>\n",
       "    <tr>\n",
       "      <th>1</th>\n",
       "      <td>oneplus</td>\n",
       "      <td>OnePlus Nord CE 2 Lite 5G</td>\n",
       "      <td>19989</td>\n",
       "      <td>81.0</td>\n",
       "      <td>True</td>\n",
       "      <td>False</td>\n",
       "      <td>False</td>\n",
       "      <td>snapdragon</td>\n",
       "      <td>8.0</td>\n",
       "      <td>2.2</td>\n",
       "      <td>5000.0</td>\n",
       "      <td>1</td>\n",
       "      <td>33.0</td>\n",
       "      <td>6.0</td>\n",
       "      <td>128.0</td>\n",
       "      <td>6.59</td>\n",
       "      <td>120</td>\n",
       "      <td>1080 x 2412</td>\n",
       "      <td>3</td>\n",
       "      <td>1.0</td>\n",
       "      <td>android</td>\n",
       "      <td>64.0</td>\n",
       "      <td>16.0</td>\n",
       "      <td>1</td>\n",
       "      <td>1024.0</td>\n",
       "    </tr>\n",
       "    <tr>\n",
       "      <th>2</th>\n",
       "      <td>samsung</td>\n",
       "      <td>Samsung Galaxy A14 5G</td>\n",
       "      <td>16499</td>\n",
       "      <td>75.0</td>\n",
       "      <td>True</td>\n",
       "      <td>False</td>\n",
       "      <td>False</td>\n",
       "      <td>exynos</td>\n",
       "      <td>8.0</td>\n",
       "      <td>2.4</td>\n",
       "      <td>5000.0</td>\n",
       "      <td>1</td>\n",
       "      <td>15.0</td>\n",
       "      <td>4.0</td>\n",
       "      <td>64.0</td>\n",
       "      <td>6.60</td>\n",
       "      <td>90</td>\n",
       "      <td>1080 x 2408</td>\n",
       "      <td>3</td>\n",
       "      <td>1.0</td>\n",
       "      <td>android</td>\n",
       "      <td>50.0</td>\n",
       "      <td>13.0</td>\n",
       "      <td>1</td>\n",
       "      <td>1024.0</td>\n",
       "    </tr>\n",
       "    <tr>\n",
       "      <th>3</th>\n",
       "      <td>motorola</td>\n",
       "      <td>Motorola Moto G62 5G</td>\n",
       "      <td>14999</td>\n",
       "      <td>81.0</td>\n",
       "      <td>True</td>\n",
       "      <td>False</td>\n",
       "      <td>False</td>\n",
       "      <td>snapdragon</td>\n",
       "      <td>8.0</td>\n",
       "      <td>2.2</td>\n",
       "      <td>5000.0</td>\n",
       "      <td>1</td>\n",
       "      <td>NaN</td>\n",
       "      <td>6.0</td>\n",
       "      <td>128.0</td>\n",
       "      <td>6.55</td>\n",
       "      <td>120</td>\n",
       "      <td>1080 x 2400</td>\n",
       "      <td>3</td>\n",
       "      <td>1.0</td>\n",
       "      <td>android</td>\n",
       "      <td>50.0</td>\n",
       "      <td>16.0</td>\n",
       "      <td>1</td>\n",
       "      <td>1024.0</td>\n",
       "    </tr>\n",
       "    <tr>\n",
       "      <th>4</th>\n",
       "      <td>realme</td>\n",
       "      <td>Realme 10 Pro Plus</td>\n",
       "      <td>24999</td>\n",
       "      <td>82.0</td>\n",
       "      <td>True</td>\n",
       "      <td>False</td>\n",
       "      <td>False</td>\n",
       "      <td>dimensity</td>\n",
       "      <td>8.0</td>\n",
       "      <td>2.6</td>\n",
       "      <td>5000.0</td>\n",
       "      <td>1</td>\n",
       "      <td>67.0</td>\n",
       "      <td>6.0</td>\n",
       "      <td>128.0</td>\n",
       "      <td>6.70</td>\n",
       "      <td>120</td>\n",
       "      <td>1080 x 2412</td>\n",
       "      <td>3</td>\n",
       "      <td>1.0</td>\n",
       "      <td>android</td>\n",
       "      <td>108.0</td>\n",
       "      <td>16.0</td>\n",
       "      <td>0</td>\n",
       "      <td>NaN</td>\n",
       "    </tr>\n",
       "  </tbody>\n",
       "</table>\n",
       "</div>"
      ],
      "text/plain": [
       "  brand_name                      model  price  rating  has_5g  has_nfc  \\\n",
       "0    oneplus              OnePlus 11 5G  54999    89.0    True     True   \n",
       "1    oneplus  OnePlus Nord CE 2 Lite 5G  19989    81.0    True    False   \n",
       "2    samsung      Samsung Galaxy A14 5G  16499    75.0    True    False   \n",
       "3   motorola       Motorola Moto G62 5G  14999    81.0    True    False   \n",
       "4     realme         Realme 10 Pro Plus  24999    82.0    True    False   \n",
       "\n",
       "   has_ir_blaster processor_brand  num_cores  processor_speed  \\\n",
       "0           False      snapdragon        8.0              3.2   \n",
       "1           False      snapdragon        8.0              2.2   \n",
       "2           False          exynos        8.0              2.4   \n",
       "3           False      snapdragon        8.0              2.2   \n",
       "4           False       dimensity        8.0              2.6   \n",
       "\n",
       "   battery_capacity  fast_charging_available  fast_charging  ram_capacity  \\\n",
       "0            5000.0                        1          100.0          12.0   \n",
       "1            5000.0                        1           33.0           6.0   \n",
       "2            5000.0                        1           15.0           4.0   \n",
       "3            5000.0                        1            NaN           6.0   \n",
       "4            5000.0                        1           67.0           6.0   \n",
       "\n",
       "   internal_memory  screen_size  refresh_rate    resolution  num_rear_cameras  \\\n",
       "0            256.0         6.70           120  1440 x 3216                  3   \n",
       "1            128.0         6.59           120  1080 x 2412                  3   \n",
       "2             64.0         6.60            90  1080 x 2408                  3   \n",
       "3            128.0         6.55           120  1080 x 2400                  3   \n",
       "4            128.0         6.70           120  1080 x 2412                  3   \n",
       "\n",
       "   num_front_cameras       os  primary_camera_rear  primary_camera_front  \\\n",
       "0                1.0  android                 50.0                  16.0   \n",
       "1                1.0  android                 64.0                  16.0   \n",
       "2                1.0  android                 50.0                  13.0   \n",
       "3                1.0  android                 50.0                  16.0   \n",
       "4                1.0  android                108.0                  16.0   \n",
       "\n",
       "   extended_memory_available  extended_upto  \n",
       "0                          0            NaN  \n",
       "1                          1         1024.0  \n",
       "2                          1         1024.0  \n",
       "3                          1         1024.0  \n",
       "4                          0            NaN  "
      ]
     },
     "execution_count": 3,
     "metadata": {},
     "output_type": "execute_result"
    }
   ],
   "source": [
    "df = pd.read_csv('smartphone_cleaned_v5.csv')\n",
    "df.head()"
   ]
  },
  {
   "cell_type": "code",
   "execution_count": 4,
   "metadata": {},
   "outputs": [
    {
     "name": "stdout",
     "output_type": "stream",
     "text": [
      "<class 'pandas.core.frame.DataFrame'>\n",
      "RangeIndex: 980 entries, 0 to 979\n",
      "Data columns (total 25 columns):\n",
      " #   Column                     Non-Null Count  Dtype  \n",
      "---  ------                     --------------  -----  \n",
      " 0   brand_name                 980 non-null    object \n",
      " 1   model                      980 non-null    object \n",
      " 2   price                      980 non-null    int64  \n",
      " 3   rating                     879 non-null    float64\n",
      " 4   has_5g                     980 non-null    bool   \n",
      " 5   has_nfc                    980 non-null    bool   \n",
      " 6   has_ir_blaster             980 non-null    bool   \n",
      " 7   processor_brand            960 non-null    object \n",
      " 8   num_cores                  974 non-null    float64\n",
      " 9   processor_speed            938 non-null    float64\n",
      " 10  battery_capacity           969 non-null    float64\n",
      " 11  fast_charging_available    980 non-null    int64  \n",
      " 12  fast_charging              769 non-null    float64\n",
      " 13  ram_capacity               980 non-null    float64\n",
      " 14  internal_memory            980 non-null    float64\n",
      " 15  screen_size                980 non-null    float64\n",
      " 16  refresh_rate               980 non-null    int64  \n",
      " 17  resolution                 980 non-null    object \n",
      " 18  num_rear_cameras           980 non-null    int64  \n",
      " 19  num_front_cameras          976 non-null    float64\n",
      " 20  os                         966 non-null    object \n",
      " 21  primary_camera_rear        980 non-null    float64\n",
      " 22  primary_camera_front       975 non-null    float64\n",
      " 23  extended_memory_available  980 non-null    int64  \n",
      " 24  extended_upto              500 non-null    float64\n",
      "dtypes: bool(3), float64(12), int64(5), object(5)\n",
      "memory usage: 171.4+ KB\n"
     ]
    }
   ],
   "source": [
    "df.info()"
   ]
  },
  {
   "cell_type": "code",
   "execution_count": 5,
   "metadata": {},
   "outputs": [
    {
     "data": {
      "text/plain": [
       "brand_name                     0\n",
       "model                          0\n",
       "price                          0\n",
       "rating                       101\n",
       "has_5g                         0\n",
       "has_nfc                        0\n",
       "has_ir_blaster                 0\n",
       "processor_brand               20\n",
       "num_cores                      6\n",
       "processor_speed               42\n",
       "battery_capacity              11\n",
       "fast_charging_available        0\n",
       "fast_charging                211\n",
       "ram_capacity                   0\n",
       "internal_memory                0\n",
       "screen_size                    0\n",
       "refresh_rate                   0\n",
       "resolution                     0\n",
       "num_rear_cameras               0\n",
       "num_front_cameras              4\n",
       "os                            14\n",
       "primary_camera_rear            0\n",
       "primary_camera_front           5\n",
       "extended_memory_available      0\n",
       "extended_upto                480\n",
       "dtype: int64"
      ]
     },
     "execution_count": 5,
     "metadata": {},
     "output_type": "execute_result"
    }
   ],
   "source": [
    "df.isnull().sum()"
   ]
  },
  {
   "cell_type": "code",
   "execution_count": 8,
   "metadata": {},
   "outputs": [
    {
     "data": {
      "text/plain": [
       "<Axes: xlabel='brand_name'>"
      ]
     },
     "execution_count": 8,
     "metadata": {},
     "output_type": "execute_result"
    },
    {
     "data": {
      "image/png": "[encoded data removed]",
      "text/plain": [
       "<Figure size 640x480 with 1 Axes>"
      ]
     },
     "metadata": {},
     "output_type": "display_data"
    }
   ],
   "source": [
    "# brand name \n",
    "# plot a graph top 5 nrands  phone \n",
    "df['brand_name'].value_counts().head(10).plot(kind='bar')"
   ]
  },
  {
   "cell_type": "code",
   "execution_count": 9,
   "metadata": {},
   "outputs": [
    {
     "data": {
      "text/plain": [
       "<Axes: ylabel='count'>"
      ]
     },
     "execution_count": 9,
     "metadata": {},
     "output_type": "execute_result"
    },
    {
     "data": {
      "image/png": "[encoded data removed]",
      "text/plain": [
       "<Figure size 640x480 with 1 Axes>"
      ]
     },
     "metadata": {},
     "output_type": "display_data"
    }
   ],
   "source": [
    "df['brand_name'].value_counts().head(10).plot(kind='pie', autopct ='%0.1f%%')"
   ]
  },
  {
   "cell_type": "code",
   "execution_count": 11,
   "metadata": {},
   "outputs": [
    {
     "data": {
      "text/plain": [
       "0"
      ]
     },
     "execution_count": 11,
     "metadata": {},
     "output_type": "execute_result"
    }
   ],
   "source": [
    "df['brand_name'].isnull().sum()"
   ]
  },
  {
   "cell_type": "code",
   "execution_count": 12,
   "metadata": {},
   "outputs": [
    {
     "data": {
      "text/plain": [
       "980"
      ]
     },
     "execution_count": 12,
     "metadata": {},
     "output_type": "execute_result"
    }
   ],
   "source": [
    "df['model'].nunique()"
   ]
  },
  {
   "cell_type": "code",
   "execution_count": null,
   "metadata": {},
   "outputs": [],
   "source": [
    "# price \n"
   ]
  },
  {
   "cell_type": "code",
   "execution_count": null,
   "metadata": {},
   "outputs": [],
   "source": []
  },
  {
   "cell_type": "code",
   "execution_count": null,
   "metadata": {},
   "outputs": [],
   "source": []
  },
  {
   "cell_type": "code",
   "execution_count": null,
   "metadata": {},
   "outputs": [],
   "source": []
  },
  {
   "cell_type": "code",
   "execution_count": null,
   "metadata": {},
   "outputs": [],
   "source": []
  }
 ],
 "metadata": {
  "kernelspec": {
   "display_name": "Python (new_mldl)",
   "language": "python",
   "name": "new_mldl"
  },
  "language_info": {
   "codemirror_mode": {
    "name": "ipython",
    "version": 3
   },
   "file_extension": ".py",
   "mimetype": "text/x-python",
   "name": "python",
   "nbconvert_exporter": "python",
   "pygments_lexer": "ipython3",
   "version": "3.12.2"
  }
 },
 "nbformat": 4,
 "nbformat_minor": 2
}
